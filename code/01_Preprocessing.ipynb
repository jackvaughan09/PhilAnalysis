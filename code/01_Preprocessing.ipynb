{
 "cells": [
  {
   "attachments": {},
   "cell_type": "markdown",
   "metadata": {},
   "source": [
    "# Cleaning / Preprocessing / EDA Notebook"
   ]
  },
  {
   "attachments": {},
   "cell_type": "markdown",
   "metadata": {},
   "source": [
    "This data comes from a pipeline created here: [PhilAuditSystem](https://github.com/jackvaughan09/PhilippinesAuditSystem)\n",
    "\n",
    "- **Audit observation**: The reported finding from the audit\n",
    "- **Recommendation**: The recommendation from the audit committee to the audited entity\n",
    "- **Status of Implementation**: Whether the recommendation was implemented or not\n",
    "- **Reasons for partial/non-implementation**: If the recommendation was not implemented, the reason why\n",
    "- **Management Action**: The action taken by the audited entity to address the recommendation\n",
    "- **References**: The reference to the law or regulation that the recommendation is based on\n",
    "- **Source**: The source of the audit report\n",
    "\n",
    "\n",
    "\n",
    "Throughout the notebook, there will be commented code for saving out certain slices of the dataframe to csv. These slices will be stored with relevant names in the `data/exploration` folder.\n",
    "\n",
    "Much of the analysis done at certain points relied heavily upon being able to open up a spreadsheet and do some manual searching. Fortunately, the dataset is not so large as to make this overly cumbersome. \n",
    "\n",
    "The notebook is entirely understandable without doing the searching yourself, but the data is there for convenience."
   ]
  },
  {
   "attachments": {},
   "cell_type": "markdown",
   "metadata": {},
   "source": [
    "### Importing Libraries"
   ]
  },
  {
   "cell_type": "code",
   "execution_count": 104,
   "metadata": {},
   "outputs": [],
   "source": [
    "import pandas as pd\n",
    "import numpy as np\n",
    "import matplotlib.pyplot as plt\n",
    "import os "
   ]
  },
  {
   "attachments": {},
   "cell_type": "markdown",
   "metadata": {},
   "source": [
    "## Reading in Data"
   ]
  },
  {
   "cell_type": "code",
   "execution_count": 105,
   "metadata": {},
   "outputs": [],
   "source": [
    "# Set the working directory\n",
    "wd = '../data/source_data'"
   ]
  },
  {
   "cell_type": "code",
   "execution_count": 106,
   "metadata": {},
   "outputs": [
    {
     "name": "stdout",
     "output_type": "stream",
     "text": [
      "(4881, 7)\n"
     ]
    }
   ],
   "source": [
    "dfs = [] # List of DataFrames\n",
    "for file in os.listdir(wd):\n",
    "    if file.endswith('.xlsx'):\n",
    "        df = pd.read_excel(os.path.join(wd, file), index_col=0)\n",
    "        dfs.append(df.applymap(lambda x: x.lower() if isinstance(x, str) else x))\n",
    "df = pd.concat(dfs, axis=0)\n",
    "df = df.reset_index(drop=True)\n",
    "print(df.shape)\n"
   ]
  },
  {
   "cell_type": "code",
   "execution_count": 107,
   "metadata": {},
   "outputs": [
    {
     "data": {
      "text/plain": [
       "Index(['audit_observation', 'recommendations', 'status_of_implementation',\n",
       "       'reasons_for_partial_or_non_implementation', 'management_action',\n",
       "       'references', 'source'],\n",
       "      dtype='object')"
      ]
     },
     "execution_count": 107,
     "metadata": {},
     "output_type": "execute_result"
    }
   ],
   "source": [
    "df.columns =(\n",
    "    df.columns\n",
    "    .str.replace(' ', '_')\n",
    "    .str.lower()\n",
    "    .str.replace('/', '_or_')\n",
    "    .str.replace('-', '_')\n",
    ")\n",
    "df.columns"
   ]
  },
  {
   "attachments": {},
   "cell_type": "markdown",
   "metadata": {},
   "source": [
    "### Duplicated Values --> Drop"
   ]
  },
  {
   "cell_type": "code",
   "execution_count": 108,
   "metadata": {},
   "outputs": [
    {
     "data": {
      "text/plain": [
       "124"
      ]
     },
     "execution_count": 108,
     "metadata": {},
     "output_type": "execute_result"
    }
   ],
   "source": [
    "len(df.loc[df.duplicated()])"
   ]
  },
  {
   "cell_type": "code",
   "execution_count": 109,
   "metadata": {},
   "outputs": [
    {
     "name": "stdout",
     "output_type": "stream",
     "text": [
      "(4881, 7)\n",
      "(4757, 7)\n"
     ]
    }
   ],
   "source": [
    "print(df.shape)\n",
    "df.drop_duplicates(keep=\"first\", inplace=True)\n",
    "print(df.shape)\n",
    "df.reset_index(drop=True, inplace=True)"
   ]
  },
  {
   "attachments": {},
   "cell_type": "markdown",
   "metadata": {},
   "source": [
    "___"
   ]
  },
  {
   "attachments": {},
   "cell_type": "markdown",
   "metadata": {},
   "source": [
    "## Missing Values\n",
    "\n",
    "We have a lot of missing values, but for the most part, this won't be an issue. Later on, some of these features will be combined. So, let's first take care of the rows where it is all or almost entirely missing -- we'll drop those."
   ]
  },
  {
   "cell_type": "code",
   "execution_count": 110,
   "metadata": {},
   "outputs": [
    {
     "data": {
      "text/plain": [
       "audit_observation                             239\n",
       "recommendations                              1653\n",
       "status_of_implementation                      677\n",
       "reasons_for_partial_or_non_implementation     798\n",
       "management_action                             877\n",
       "references                                    330\n",
       "source                                          0\n",
       "dtype: int64"
      ]
     },
     "execution_count": 110,
     "metadata": {},
     "output_type": "execute_result"
    }
   ],
   "source": [
    "df.isna().sum()"
   ]
  },
  {
   "cell_type": "code",
   "execution_count": 111,
   "metadata": {},
   "outputs": [
    {
     "name": "stdout",
     "output_type": "stream",
     "text": [
      "(21, 7)\n"
     ]
    },
    {
     "data": {
      "text/html": [
       "<div>\n",
       "<style scoped>\n",
       "    .dataframe tbody tr th:only-of-type {\n",
       "        vertical-align: middle;\n",
       "    }\n",
       "\n",
       "    .dataframe tbody tr th {\n",
       "        vertical-align: top;\n",
       "    }\n",
       "\n",
       "    .dataframe thead th {\n",
       "        text-align: right;\n",
       "    }\n",
       "</style>\n",
       "<table border=\"1\" class=\"dataframe\">\n",
       "  <thead>\n",
       "    <tr style=\"text-align: right;\">\n",
       "      <th></th>\n",
       "      <th>audit_observation</th>\n",
       "      <th>recommendations</th>\n",
       "      <th>status_of_implementation</th>\n",
       "      <th>reasons_for_partial_or_non_implementation</th>\n",
       "      <th>management_action</th>\n",
       "      <th>references</th>\n",
       "      <th>source</th>\n",
       "    </tr>\n",
       "  </thead>\n",
       "  <tbody>\n",
       "    <tr>\n",
       "      <th>713</th>\n",
       "      <td>NaN</td>\n",
       "      <td>NaN</td>\n",
       "      <td>NaN</td>\n",
       "      <td>NaN</td>\n",
       "      <td>NaN</td>\n",
       "      <td>2012</td>\n",
       "      <td>01-nuevaera2013_audit_report.pdf</td>\n",
       "    </tr>\n",
       "    <tr>\n",
       "      <th>723</th>\n",
       "      <td>NaN</td>\n",
       "      <td>NaN</td>\n",
       "      <td>NaN</td>\n",
       "      <td>NaN</td>\n",
       "      <td>NaN</td>\n",
       "      <td>2011</td>\n",
       "      <td>01-nuevaera2013_audit_report.pdf</td>\n",
       "    </tr>\n",
       "    <tr>\n",
       "      <th>728</th>\n",
       "      <td>NaN</td>\n",
       "      <td>NaN</td>\n",
       "      <td>NaN</td>\n",
       "      <td>NaN</td>\n",
       "      <td>NaN</td>\n",
       "      <td>2010</td>\n",
       "      <td>01-nuevaera2013_audit_report.pdf</td>\n",
       "    </tr>\n",
       "    <tr>\n",
       "      <th>733</th>\n",
       "      <td>NaN</td>\n",
       "      <td>NaN</td>\n",
       "      <td>NaN</td>\n",
       "      <td>NaN</td>\n",
       "      <td>NaN</td>\n",
       "      <td>2009</td>\n",
       "      <td>01-nuevaera2013_audit_report.pdf</td>\n",
       "    </tr>\n",
       "    <tr>\n",
       "      <th>736</th>\n",
       "      <td>NaN</td>\n",
       "      <td>NaN</td>\n",
       "      <td>NaN</td>\n",
       "      <td>NaN</td>\n",
       "      <td>NaN</td>\n",
       "      <td>2008</td>\n",
       "      <td>01-nuevaera2013_audit_report.pdf</td>\n",
       "    </tr>\n",
       "  </tbody>\n",
       "</table>\n",
       "</div>"
      ],
      "text/plain": [
       "    audit_observation recommendations status_of_implementation  \\\n",
       "713               NaN             NaN                      NaN   \n",
       "723               NaN             NaN                      NaN   \n",
       "728               NaN             NaN                      NaN   \n",
       "733               NaN             NaN                      NaN   \n",
       "736               NaN             NaN                      NaN   \n",
       "\n",
       "    reasons_for_partial_or_non_implementation management_action references  \\\n",
       "713                                       NaN               NaN       2012   \n",
       "723                                       NaN               NaN       2011   \n",
       "728                                       NaN               NaN       2010   \n",
       "733                                       NaN               NaN       2009   \n",
       "736                                       NaN               NaN       2008   \n",
       "\n",
       "                               source  \n",
       "713  01-nuevaera2013_audit_report.pdf  \n",
       "723  01-nuevaera2013_audit_report.pdf  \n",
       "728  01-nuevaera2013_audit_report.pdf  \n",
       "733  01-nuevaera2013_audit_report.pdf  \n",
       "736  01-nuevaera2013_audit_report.pdf  "
      ]
     },
     "execution_count": 111,
     "metadata": {},
     "output_type": "execute_result"
    }
   ],
   "source": [
    "# If a row only has values in its references or source columns,\n",
    "# then we can drop that sucker. \n",
    "only_references = df.loc[\n",
    "    (df.audit_observation.isna()) &\n",
    "    (df.recommendations.isna()) &\n",
    "    (df.status_of_implementation.isna()) &\n",
    "    (df.reasons_for_partial_or_non_implementation.isna())&\n",
    "    ((df.references.notna()) | (df.source.notna()))\n",
    "]\n",
    "print(only_references.shape)\n",
    "only_references.head()"
   ]
  },
  {
   "cell_type": "code",
   "execution_count": 112,
   "metadata": {},
   "outputs": [],
   "source": [
    "only_references.to_csv('../data/exploration/only_references.csv')"
   ]
  },
  {
   "cell_type": "code",
   "execution_count": 113,
   "metadata": {},
   "outputs": [
    {
     "data": {
      "text/plain": [
       "(4736, 7)"
      ]
     },
     "execution_count": 113,
     "metadata": {},
     "output_type": "execute_result"
    }
   ],
   "source": [
    "df.drop(only_references.index, inplace=True)\n",
    "df = df.reset_index(drop=True)\n",
    "df.shape"
   ]
  },
  {
   "attachments": {},
   "cell_type": "markdown",
   "metadata": {},
   "source": [
    "___"
   ]
  },
  {
   "attachments": {},
   "cell_type": "markdown",
   "metadata": {},
   "source": [
    "## Empty Observation Analysis\n",
    "\n",
    "Most important for the text analysis is the `audit observation` column. We'll take a look into the missing values in that column, specifically, to see what the best way to clean and preserve data is."
   ]
  },
  {
   "cell_type": "code",
   "execution_count": 114,
   "metadata": {},
   "outputs": [],
   "source": [
    "# All columns except source --> has no missing values\n",
    "empty_observations = df.loc[df['audit_observation'].isna(), df.columns[:-1]] "
   ]
  },
  {
   "cell_type": "code",
   "execution_count": 115,
   "metadata": {},
   "outputs": [
    {
     "data": {
      "image/png": "[encoded data removed]",
      "text/plain": [
       "<Figure size 500x300 with 1 Axes>"
      ]
     },
     "metadata": {},
     "output_type": "display_data"
    }
   ],
   "source": [
    "# of the empty observations, what is the distribution of the total missing values per row?\n",
    "plt.figure(figsize=(5, 3))\n",
    "plt.bar(\n",
    "    x = range(1,5),\n",
    "    height=empty_observations.isna().sum(axis=1).value_counts().sort_index(),\n",
    "    color='navy'\n",
    ")\n",
    "plt.title('Distribution of Missing Values per Row in Empty Observations')\n",
    "plt.xticks(range(1,5))\n",
    "plt.xlabel('Number of Missing Values')\n",
    "plt.ylabel('Count');"
   ]
  },
  {
   "cell_type": "code",
   "execution_count": 116,
   "metadata": {},
   "outputs": [
    {
     "data": {
      "text/plain": [
       "audit_observation                            218\n",
       "status_of_implementation                      70\n",
       "reasons_for_partial_or_non_implementation     47\n",
       "management_action                             33\n",
       "references                                    14\n",
       "recommendations                                9\n",
       "dtype: int64"
      ]
     },
     "execution_count": 116,
     "metadata": {},
     "output_type": "execute_result"
    }
   ],
   "source": [
    "# of the empty observations, how many missing values are in each column?\n",
    "empty_observations.isna().sum(axis=0).sort_values(ascending=False)"
   ]
  },
  {
   "attachments": {},
   "cell_type": "markdown",
   "metadata": {},
   "source": [
    "##### Let's take a look into those missing values:"
   ]
  },
  {
   "cell_type": "code",
   "execution_count": 117,
   "metadata": {},
   "outputs": [
    {
     "data": {
      "text/html": [
       "<div>\n",
       "<style scoped>\n",
       "    .dataframe tbody tr th:only-of-type {\n",
       "        vertical-align: middle;\n",
       "    }\n",
       "\n",
       "    .dataframe tbody tr th {\n",
       "        vertical-align: top;\n",
       "    }\n",
       "\n",
       "    .dataframe thead th {\n",
       "        text-align: right;\n",
       "    }\n",
       "</style>\n",
       "<table border=\"1\" class=\"dataframe\">\n",
       "  <thead>\n",
       "    <tr style=\"text-align: right;\">\n",
       "      <th></th>\n",
       "      <th>audit_observation</th>\n",
       "      <th>recommendations</th>\n",
       "      <th>status_of_implementation</th>\n",
       "      <th>reasons_for_partial_or_non_implementation</th>\n",
       "      <th>management_action</th>\n",
       "      <th>references</th>\n",
       "      <th>source</th>\n",
       "    </tr>\n",
       "  </thead>\n",
       "  <tbody>\n",
       "    <tr>\n",
       "      <th>69</th>\n",
       "      <td>NaN</td>\n",
       "      <td>1. collections were not deposited intact with ...</td>\n",
       "      <td>n/a n/a</td>\n",
       "      <td>partially implemented. balances however as of ...</td>\n",
       "      <td>reconciliation between records of the accounti...</td>\n",
       "      <td>aar 2012</td>\n",
       "      <td>01-sual2013_audit_report.pdf</td>\n",
       "    </tr>\n",
       "    <tr>\n",
       "      <th>70</th>\n",
       "      <td>NaN</td>\n",
       "      <td>2. adjusting or correcting entries to take up ...</td>\n",
       "      <td>n/a n/a</td>\n",
       "      <td>partially implemented.</td>\n",
       "      <td>recorded as receivables the bank charges incur...</td>\n",
       "      <td>aar 2012</td>\n",
       "      <td>01-sual2013_audit_report.pdf</td>\n",
       "    </tr>\n",
       "    <tr>\n",
       "      <th>71</th>\n",
       "      <td>NaN</td>\n",
       "      <td>3. cash advances totalling p3,494,355.52 were ...</td>\n",
       "      <td>n/a n/a</td>\n",
       "      <td>partially implemented. the non-granting of cas...</td>\n",
       "      <td>no additional cash advances were granted to of...</td>\n",
       "      <td>aar 2012</td>\n",
       "      <td>01-sual2013_audit_report.pdf</td>\n",
       "    </tr>\n",
       "    <tr>\n",
       "      <th>72</th>\n",
       "      <td>NaN</td>\n",
       "      <td>4. receivables totalling p577,426,807.92 were ...</td>\n",
       "      <td>NaN</td>\n",
       "      <td>unimplemented.</td>\n",
       "      <td>requested the staff of the municipal administr...</td>\n",
       "      <td>aar 2012</td>\n",
       "      <td>01-sual2013_audit_report.pdf</td>\n",
       "    </tr>\n",
       "    <tr>\n",
       "      <th>73</th>\n",
       "      <td>NaN</td>\n",
       "      <td>5. property, plant and equipment account balan...</td>\n",
       "      <td>n/a n/a</td>\n",
       "      <td>unimplemented.</td>\n",
       "      <td>accounting office maintain ppe ledger card for...</td>\n",
       "      <td>aar 2012</td>\n",
       "      <td>01-sual2013_audit_report.pdf</td>\n",
       "    </tr>\n",
       "  </tbody>\n",
       "</table>\n",
       "</div>"
      ],
      "text/plain": [
       "   audit_observation                                    recommendations  \\\n",
       "69               NaN  1. collections were not deposited intact with ...   \n",
       "70               NaN  2. adjusting or correcting entries to take up ...   \n",
       "71               NaN  3. cash advances totalling p3,494,355.52 were ...   \n",
       "72               NaN  4. receivables totalling p577,426,807.92 were ...   \n",
       "73               NaN  5. property, plant and equipment account balan...   \n",
       "\n",
       "   status_of_implementation  \\\n",
       "69                  n/a n/a   \n",
       "70                  n/a n/a   \n",
       "71                  n/a n/a   \n",
       "72                      NaN   \n",
       "73                  n/a n/a   \n",
       "\n",
       "            reasons_for_partial_or_non_implementation  \\\n",
       "69  partially implemented. balances however as of ...   \n",
       "70                            partially implemented.    \n",
       "71  partially implemented. the non-granting of cas...   \n",
       "72                                     unimplemented.   \n",
       "73                                    unimplemented.    \n",
       "\n",
       "                                    management_action references  \\\n",
       "69  reconciliation between records of the accounti...  aar 2012    \n",
       "70  recorded as receivables the bank charges incur...  aar 2012    \n",
       "71  no additional cash advances were granted to of...  aar 2012    \n",
       "72  requested the staff of the municipal administr...   aar 2012   \n",
       "73  accounting office maintain ppe ledger card for...  aar 2012    \n",
       "\n",
       "                          source  \n",
       "69  01-sual2013_audit_report.pdf  \n",
       "70  01-sual2013_audit_report.pdf  \n",
       "71  01-sual2013_audit_report.pdf  \n",
       "72  01-sual2013_audit_report.pdf  \n",
       "73  01-sual2013_audit_report.pdf  "
      ]
     },
     "execution_count": 117,
     "metadata": {},
     "output_type": "execute_result"
    }
   ],
   "source": [
    "few_missings = empty_observations.loc[\n",
    "    (empty_observations.isna().sum(axis=1) > 0) &\n",
    "    (empty_observations.isna().sum(axis=1) <= 2)\n",
    "].index.tolist()\n",
    "df.loc[few_missings].head()"
   ]
  },
  {
   "cell_type": "code",
   "execution_count": 118,
   "metadata": {},
   "outputs": [],
   "source": [
    "df.loc[few_missings].to_csv('../data/exploration/few_missings.csv')"
   ]
  },
  {
   "cell_type": "code",
   "execution_count": 119,
   "metadata": {},
   "outputs": [
    {
     "data": {
      "text/html": [
       "<div>\n",
       "<style scoped>\n",
       "    .dataframe tbody tr th:only-of-type {\n",
       "        vertical-align: middle;\n",
       "    }\n",
       "\n",
       "    .dataframe tbody tr th {\n",
       "        vertical-align: top;\n",
       "    }\n",
       "\n",
       "    .dataframe thead th {\n",
       "        text-align: right;\n",
       "    }\n",
       "</style>\n",
       "<table border=\"1\" class=\"dataframe\">\n",
       "  <thead>\n",
       "    <tr style=\"text-align: right;\">\n",
       "      <th></th>\n",
       "      <th>audit_observation</th>\n",
       "      <th>recommendations</th>\n",
       "      <th>status_of_implementation</th>\n",
       "      <th>reasons_for_partial_or_non_implementation</th>\n",
       "      <th>management_action</th>\n",
       "      <th>references</th>\n",
       "      <th>source</th>\n",
       "    </tr>\n",
       "  </thead>\n",
       "  <tbody>\n",
       "    <tr>\n",
       "      <th>486</th>\n",
       "      <td>NaN</td>\n",
       "      <td>4. the reliability and accuracy of the cash in...</td>\n",
       "      <td>NaN</td>\n",
       "      <td>not implemented the acting accountant failed t...</td>\n",
       "      <td>NaN</td>\n",
       "      <td>2012 aar p. 18-19</td>\n",
       "      <td>05-mahatao2013_part3-status_of_py's_recommenda...</td>\n",
       "    </tr>\n",
       "    <tr>\n",
       "      <th>685</th>\n",
       "      <td>NaN</td>\n",
       "      <td>1. various reconciling items in the bank recon...</td>\n",
       "      <td>NaN</td>\n",
       "      <td>NaN</td>\n",
       "      <td>partially implemented</td>\n",
       "      <td>2012 aar</td>\n",
       "      <td>11-mayantoc2013_part3-status_of_py's_recommend...</td>\n",
       "    </tr>\n",
       "    <tr>\n",
       "      <th>687</th>\n",
       "      <td>NaN</td>\n",
       "      <td>3. recorded receivables amounting to p49,404.0...</td>\n",
       "      <td>NaN</td>\n",
       "      <td>NaN</td>\n",
       "      <td>partially implemented</td>\n",
       "      <td>2012 aar</td>\n",
       "      <td>11-mayantoc2013_part3-status_of_py's_recommend...</td>\n",
       "    </tr>\n",
       "    <tr>\n",
       "      <th>689</th>\n",
       "      <td>NaN</td>\n",
       "      <td>5. the reported property, plant and equipment ...</td>\n",
       "      <td>NaN</td>\n",
       "      <td>NaN</td>\n",
       "      <td>partially implemented</td>\n",
       "      <td>2012 aar</td>\n",
       "      <td>11-mayantoc2013_part3-status_of_py's_recommend...</td>\n",
       "    </tr>\n",
       "    <tr>\n",
       "      <th>690</th>\n",
       "      <td>NaN</td>\n",
       "      <td>6. due to inadequate planning, development fun...</td>\n",
       "      <td>NaN</td>\n",
       "      <td>NaN</td>\n",
       "      <td>partially implemented</td>\n",
       "      <td>2012 aar</td>\n",
       "      <td>11-mayantoc2013_part3-status_of_py's_recommend...</td>\n",
       "    </tr>\n",
       "  </tbody>\n",
       "</table>\n",
       "</div>"
      ],
      "text/plain": [
       "    audit_observation                                    recommendations  \\\n",
       "486               NaN  4. the reliability and accuracy of the cash in...   \n",
       "685               NaN  1. various reconciling items in the bank recon...   \n",
       "687               NaN  3. recorded receivables amounting to p49,404.0...   \n",
       "689               NaN  5. the reported property, plant and equipment ...   \n",
       "690               NaN  6. due to inadequate planning, development fun...   \n",
       "\n",
       "    status_of_implementation  \\\n",
       "486                      NaN   \n",
       "685                      NaN   \n",
       "687                      NaN   \n",
       "689                      NaN   \n",
       "690                      NaN   \n",
       "\n",
       "             reasons_for_partial_or_non_implementation      management_action  \\\n",
       "486  not implemented the acting accountant failed t...                    NaN   \n",
       "685                                                NaN  partially implemented   \n",
       "687                                                NaN  partially implemented   \n",
       "689                                                NaN  partially implemented   \n",
       "690                                                NaN  partially implemented   \n",
       "\n",
       "            references                                             source  \n",
       "486  2012 aar p. 18-19  05-mahatao2013_part3-status_of_py's_recommenda...  \n",
       "685           2012 aar  11-mayantoc2013_part3-status_of_py's_recommend...  \n",
       "687           2012 aar  11-mayantoc2013_part3-status_of_py's_recommend...  \n",
       "689           2012 aar  11-mayantoc2013_part3-status_of_py's_recommend...  \n",
       "690           2012 aar  11-mayantoc2013_part3-status_of_py's_recommend...  "
      ]
     },
     "execution_count": 119,
     "metadata": {},
     "output_type": "execute_result"
    }
   ],
   "source": [
    "more_missings = empty_observations.loc[\n",
    "    (empty_observations.isna().sum(axis=1) > 2) &\n",
    "    (empty_observations.isna().sum(axis=1) <= 4)\n",
    "].index.tolist()\n",
    "df.loc[more_missings].head()"
   ]
  },
  {
   "cell_type": "code",
   "execution_count": 120,
   "metadata": {},
   "outputs": [],
   "source": [
    "df.loc[more_missings].to_csv('../data/exploration/more_missings.csv')"
   ]
  },
  {
   "attachments": {},
   "cell_type": "markdown",
   "metadata": {},
   "source": [
    "##### Analysis:\n",
    "\n",
    "- Though the tables displayed may not have much variance due to the `.head()` method, there is quite a lot different between each individual source's missing values.\n",
    "- Sometimes, the filled values for a row missing the observation look like overflow.\n",
    "- Other times, these filled values, specifically in the `recommendations` column, look like they are the actual values for the audit observation.\n",
    "\n",
    "##### Solution:\n",
    "> Continue to investigate before making a decision on keeping, dropping, or conducting overflow repair on the missing values."
   ]
  },
  {
   "attachments": {},
   "cell_type": "markdown",
   "metadata": {},
   "source": [
    "___"
   ]
  },
  {
   "attachments": {},
   "cell_type": "markdown",
   "metadata": {},
   "source": [
    "### Empty observations with no recommendations"
   ]
  },
  {
   "attachments": {},
   "cell_type": "markdown",
   "metadata": {},
   "source": [
    "> We'll drop these rows!"
   ]
  },
  {
   "cell_type": "code",
   "execution_count": 121,
   "metadata": {},
   "outputs": [
    {
     "data": {
      "text/html": [
       "<div>\n",
       "<style scoped>\n",
       "    .dataframe tbody tr th:only-of-type {\n",
       "        vertical-align: middle;\n",
       "    }\n",
       "\n",
       "    .dataframe tbody tr th {\n",
       "        vertical-align: top;\n",
       "    }\n",
       "\n",
       "    .dataframe thead th {\n",
       "        text-align: right;\n",
       "    }\n",
       "</style>\n",
       "<table border=\"1\" class=\"dataframe\">\n",
       "  <thead>\n",
       "    <tr style=\"text-align: right;\">\n",
       "      <th></th>\n",
       "      <th>audit_observation</th>\n",
       "      <th>recommendations</th>\n",
       "      <th>status_of_implementation</th>\n",
       "      <th>reasons_for_partial_or_non_implementation</th>\n",
       "      <th>management_action</th>\n",
       "      <th>references</th>\n",
       "    </tr>\n",
       "  </thead>\n",
       "  <tbody>\n",
       "    <tr>\n",
       "      <th>1236</th>\n",
       "      <td>NaN</td>\n",
       "      <td>NaN</td>\n",
       "      <td>not implemented</td>\n",
       "      <td>the lgu replied that expenses for cultural act...</td>\n",
       "      <td>.</td>\n",
       "      <td>NaN</td>\n",
       "    </tr>\n",
       "    <tr>\n",
       "      <th>1237</th>\n",
       "      <td>NaN</td>\n",
       "      <td>NaN</td>\n",
       "      <td>not implemented</td>\n",
       "      <td>lgu had started the conduct of actual physical...</td>\n",
       "      <td>NaN</td>\n",
       "      <td>NaN</td>\n",
       "    </tr>\n",
       "    <tr>\n",
       "      <th>2258</th>\n",
       "      <td>NaN</td>\n",
       "      <td>NaN</td>\n",
       "      <td>265,716.00</td>\n",
       "      <td>6,461,847.33</td>\n",
       "      <td>6,727,563.33</td>\n",
       "      <td>mooe</td>\n",
       "    </tr>\n",
       "    <tr>\n",
       "      <th>2263</th>\n",
       "      <td>NaN</td>\n",
       "      <td>NaN</td>\n",
       "      <td>1,162,441.05</td>\n",
       "      <td>4</td>\n",
       "      <td>432,000.00</td>\n",
       "      <td>01/06/14</td>\n",
       "    </tr>\n",
       "    <tr>\n",
       "      <th>2264</th>\n",
       "      <td>NaN</td>\n",
       "      <td>NaN</td>\n",
       "      <td>268,246.33</td>\n",
       "      <td>5</td>\n",
       "      <td>894,194.72</td>\n",
       "      <td>01/07/14</td>\n",
       "    </tr>\n",
       "    <tr>\n",
       "      <th>2265</th>\n",
       "      <td>NaN</td>\n",
       "      <td>NaN</td>\n",
       "      <td>15.08</td>\n",
       "      <td>6</td>\n",
       "      <td>268,231.25</td>\n",
       "      <td>01/08/14</td>\n",
       "    </tr>\n",
       "    <tr>\n",
       "      <th>2266</th>\n",
       "      <td>NaN</td>\n",
       "      <td>NaN</td>\n",
       "      <td>-</td>\n",
       "      <td>8</td>\n",
       "      <td>15.08</td>\n",
       "      <td>01/10/14</td>\n",
       "    </tr>\n",
       "    <tr>\n",
       "      <th>2269</th>\n",
       "      <td>NaN</td>\n",
       "      <td>NaN</td>\n",
       "      <td>454,487.06</td>\n",
       "      <td>4</td>\n",
       "      <td>600,000.00</td>\n",
       "      <td>01/06/14</td>\n",
       "    </tr>\n",
       "    <tr>\n",
       "      <th>3252</th>\n",
       "      <td>NaN</td>\n",
       "      <td>NaN</td>\n",
       "      <td>imple- mentation</td>\n",
       "      <td>non- implementation</td>\n",
       "      <td>NaN</td>\n",
       "      <td>NaN</td>\n",
       "    </tr>\n",
       "  </tbody>\n",
       "</table>\n",
       "</div>"
      ],
      "text/plain": [
       "     audit_observation recommendations status_of_implementation  \\\n",
       "1236               NaN             NaN          not implemented   \n",
       "1237               NaN             NaN          not implemented   \n",
       "2258               NaN             NaN               265,716.00   \n",
       "2263               NaN             NaN             1,162,441.05   \n",
       "2264               NaN             NaN               268,246.33   \n",
       "2265               NaN             NaN                    15.08   \n",
       "2266               NaN             NaN                        -   \n",
       "2269               NaN             NaN               454,487.06   \n",
       "3252               NaN             NaN         imple- mentation   \n",
       "\n",
       "              reasons_for_partial_or_non_implementation management_action  \\\n",
       "1236  the lgu replied that expenses for cultural act...                 .   \n",
       "1237  lgu had started the conduct of actual physical...               NaN   \n",
       "2258                                       6,461,847.33      6,727,563.33   \n",
       "2263                                                  4        432,000.00   \n",
       "2264                                                  5        894,194.72   \n",
       "2265                                                  6        268,231.25   \n",
       "2266                                                  8             15.08   \n",
       "2269                                                  4        600,000.00   \n",
       "3252                                non- implementation               NaN   \n",
       "\n",
       "     references  \n",
       "1236        NaN  \n",
       "1237        NaN  \n",
       "2258       mooe  \n",
       "2263   01/06/14  \n",
       "2264   01/07/14  \n",
       "2265   01/08/14  \n",
       "2266   01/10/14  \n",
       "2269   01/06/14  \n",
       "3252        NaN  "
      ]
     },
     "execution_count": 121,
     "metadata": {},
     "output_type": "execute_result"
    }
   ],
   "source": [
    "# initialize a list to store the indices of the rows to drop\n",
    "to_drop = []\n",
    "\n",
    "empty_observations.loc[\n",
    "    (empty_observations.recommendations.isna())\n",
    "]"
   ]
  },
  {
   "cell_type": "code",
   "execution_count": 122,
   "metadata": {},
   "outputs": [],
   "source": [
    "empty_observations.loc[\n",
    "    (empty_observations.status_of_implementation.isna())\n",
    "].to_csv('../data/exploration/empty_observations_no_recommendations.csv')"
   ]
  },
  {
   "cell_type": "code",
   "execution_count": 123,
   "metadata": {},
   "outputs": [],
   "source": [
    "to_drop.extend(empty_observations.loc[empty_observations.recommendations.isna()].index)"
   ]
  },
  {
   "attachments": {},
   "cell_type": "markdown",
   "metadata": {},
   "source": [
    "___"
   ]
  },
  {
   "attachments": {},
   "cell_type": "markdown",
   "metadata": {},
   "source": [
    "### Empty observations with no references\n",
    "\n",
    "> These appear to be overflow rows!"
   ]
  },
  {
   "cell_type": "code",
   "execution_count": 124,
   "metadata": {},
   "outputs": [
    {
     "name": "stdout",
     "output_type": "stream",
     "text": [
      "(14, 6)\n"
     ]
    },
    {
     "data": {
      "text/html": [
       "<div>\n",
       "<style scoped>\n",
       "    .dataframe tbody tr th:only-of-type {\n",
       "        vertical-align: middle;\n",
       "    }\n",
       "\n",
       "    .dataframe tbody tr th {\n",
       "        vertical-align: top;\n",
       "    }\n",
       "\n",
       "    .dataframe thead th {\n",
       "        text-align: right;\n",
       "    }\n",
       "</style>\n",
       "<table border=\"1\" class=\"dataframe\">\n",
       "  <thead>\n",
       "    <tr style=\"text-align: right;\">\n",
       "      <th></th>\n",
       "      <th>audit_observation</th>\n",
       "      <th>recommendations</th>\n",
       "      <th>status_of_implementation</th>\n",
       "      <th>reasons_for_partial_or_non_implementation</th>\n",
       "      <th>management_action</th>\n",
       "      <th>references</th>\n",
       "    </tr>\n",
       "  </thead>\n",
       "  <tbody>\n",
       "    <tr>\n",
       "      <th>1236</th>\n",
       "      <td>NaN</td>\n",
       "      <td>NaN</td>\n",
       "      <td>not implemented</td>\n",
       "      <td>the lgu replied that expenses for cultural act...</td>\n",
       "      <td>.</td>\n",
       "      <td>NaN</td>\n",
       "    </tr>\n",
       "    <tr>\n",
       "      <th>1237</th>\n",
       "      <td>NaN</td>\n",
       "      <td>NaN</td>\n",
       "      <td>not implemented</td>\n",
       "      <td>lgu had started the conduct of actual physical...</td>\n",
       "      <td>NaN</td>\n",
       "      <td>NaN</td>\n",
       "    </tr>\n",
       "    <tr>\n",
       "      <th>1245</th>\n",
       "      <td>NaN</td>\n",
       "      <td>infrastructure projects we recommended strict</td>\n",
       "      <td>implemente</td>\n",
       "      <td>NaN</td>\n",
       "      <td>NaN</td>\n",
       "      <td>NaN</td>\n",
       "    </tr>\n",
       "    <tr>\n",
       "      <th>1283</th>\n",
       "      <td>NaN</td>\n",
       "      <td>the head of the market economic enterprise is ...</td>\n",
       "      <td>not implemente d</td>\n",
       "      <td>management is now in the process of preparing ...</td>\n",
       "      <td>NaN</td>\n",
       "      <td>NaN</td>\n",
       "    </tr>\n",
       "    <tr>\n",
       "      <th>2230</th>\n",
       "      <td>NaN</td>\n",
       "      <td>1. the balance of cash in bank reflected the f...</td>\n",
       "      <td>NaN</td>\n",
       "      <td>implemented implemented</td>\n",
       "      <td>reconciliation was made and adjustments were e...</td>\n",
       "      <td>NaN</td>\n",
       "    </tr>\n",
       "  </tbody>\n",
       "</table>\n",
       "</div>"
      ],
      "text/plain": [
       "     audit_observation                                    recommendations  \\\n",
       "1236               NaN                                                NaN   \n",
       "1237               NaN                                                NaN   \n",
       "1245               NaN      infrastructure projects we recommended strict   \n",
       "1283               NaN  the head of the market economic enterprise is ...   \n",
       "2230               NaN  1. the balance of cash in bank reflected the f...   \n",
       "\n",
       "     status_of_implementation  \\\n",
       "1236          not implemented   \n",
       "1237          not implemented   \n",
       "1245               implemente   \n",
       "1283         not implemente d   \n",
       "2230                      NaN   \n",
       "\n",
       "              reasons_for_partial_or_non_implementation  \\\n",
       "1236  the lgu replied that expenses for cultural act...   \n",
       "1237  lgu had started the conduct of actual physical...   \n",
       "1245                                                NaN   \n",
       "1283  management is now in the process of preparing ...   \n",
       "2230                            implemented implemented   \n",
       "\n",
       "                                      management_action references  \n",
       "1236                                                  .        NaN  \n",
       "1237                                                NaN        NaN  \n",
       "1245                                                NaN        NaN  \n",
       "1283                                                NaN        NaN  \n",
       "2230  reconciliation was made and adjustments were e...        NaN  "
      ]
     },
     "execution_count": 124,
     "metadata": {},
     "output_type": "execute_result"
    }
   ],
   "source": [
    "needs_repair = []\n",
    "no_references = empty_observations.loc[\n",
    "    (empty_observations.references.isna())\n",
    "]\n",
    "print(no_references.shape)\n",
    "no_references.head()"
   ]
  },
  {
   "cell_type": "code",
   "execution_count": 125,
   "metadata": {},
   "outputs": [],
   "source": [
    "no_references.to_csv('../data/exploration/no_references.csv')"
   ]
  },
  {
   "cell_type": "code",
   "execution_count": 126,
   "metadata": {},
   "outputs": [],
   "source": [
    "needs_repair.extend(no_references.index)"
   ]
  },
  {
   "attachments": {},
   "cell_type": "markdown",
   "metadata": {},
   "source": [
    "##### We won't drop `to_drop` or fix the `needs_repair` indicies until later on!"
   ]
  },
  {
   "attachments": {},
   "cell_type": "markdown",
   "metadata": {},
   "source": [
    "___"
   ]
  },
  {
   "attachments": {},
   "cell_type": "markdown",
   "metadata": {},
   "source": [
    "### Empty observations with no status of implementation"
   ]
  },
  {
   "attachments": {},
   "cell_type": "markdown",
   "metadata": {},
   "source": [
    "> Looks like the status of implementation is contained in the reasons for partial/non-implementation column!\n",
    "\n",
    "We'll push the `reasons for partial/non-implementation` column into the `status of implementation` column, and then drop the former."
   ]
  },
  {
   "cell_type": "code",
   "execution_count": 127,
   "metadata": {},
   "outputs": [
    {
     "name": "stdout",
     "output_type": "stream",
     "text": [
      "There are 29 unique reasons for partial or non-implementation for empty observations.\n",
      "Here are the top ten:\n"
     ]
    },
    {
     "data": {
      "text/plain": [
       "implemented.                                                                                   6\n",
       "not implemented.                                                                               5\n",
       "implemented                                                                                    3\n",
       "unimplemented.                                                                                 2\n",
       "partially implemented                                                                          2\n",
       "partially implemented.                                                                         2\n",
       "fully implemented.                                                                             2\n",
       "no explanation from the manageme nt and reply to our manageme nt letter dated oct. 15, 2012    2\n",
       "not implemented                                                                                2\n",
       "partially implemented no report yet was submitted in this office for validation                1\n",
       "Name: reasons_for_partial_or_non_implementation, dtype: int64"
      ]
     },
     "execution_count": 127,
     "metadata": {},
     "output_type": "execute_result"
    }
   ],
   "source": [
    "here_be_status = (empty_observations.loc[\n",
    "                 (empty_observations.status_of_implementation.isna())\n",
    "                 ].reasons_for_partial_or_non_implementation\n",
    "                 .value_counts())\n",
    "print(f\"There are {here_be_status.shape[0]} unique reasons for partial or non-implementation for empty observations.\")\n",
    "print(\"Here are the top ten:\")\n",
    "here_be_status[0:10]"
   ]
  },
  {
   "cell_type": "code",
   "execution_count": 128,
   "metadata": {},
   "outputs": [],
   "source": [
    "here_be_status.to_csv('../data/exploration/empty_observations_no_status.csv')"
   ]
  },
  {
   "cell_type": "code",
   "execution_count": 129,
   "metadata": {},
   "outputs": [
    {
     "name": "stdout",
     "output_type": "stream",
     "text": [
      "(70, 7)\n"
     ]
    },
    {
     "data": {
      "text/html": [
       "<div>\n",
       "<style scoped>\n",
       "    .dataframe tbody tr th:only-of-type {\n",
       "        vertical-align: middle;\n",
       "    }\n",
       "\n",
       "    .dataframe tbody tr th {\n",
       "        vertical-align: top;\n",
       "    }\n",
       "\n",
       "    .dataframe thead th {\n",
       "        text-align: right;\n",
       "    }\n",
       "</style>\n",
       "<table border=\"1\" class=\"dataframe\">\n",
       "  <thead>\n",
       "    <tr style=\"text-align: right;\">\n",
       "      <th></th>\n",
       "      <th>audit_observation</th>\n",
       "      <th>recommendations</th>\n",
       "      <th>status_of_implementation</th>\n",
       "      <th>reasons_for_partial_or_non_implementation</th>\n",
       "      <th>management_action</th>\n",
       "      <th>references</th>\n",
       "      <th>source</th>\n",
       "    </tr>\n",
       "  </thead>\n",
       "  <tbody>\n",
       "    <tr>\n",
       "      <th>72</th>\n",
       "      <td>NaN</td>\n",
       "      <td>4. receivables totalling p577,426,807.92 were ...</td>\n",
       "      <td>unimplemented.</td>\n",
       "      <td>NaN</td>\n",
       "      <td>requested the staff of the municipal administr...</td>\n",
       "      <td>aar 2012</td>\n",
       "      <td>01-sual2013_audit_report.pdf</td>\n",
       "    </tr>\n",
       "    <tr>\n",
       "      <th>74</th>\n",
       "      <td>NaN</td>\n",
       "      <td>6. fund transfer to non- governmental organiza...</td>\n",
       "      <td>partially implemented</td>\n",
       "      <td>NaN</td>\n",
       "      <td>submitted some of the documents needed.</td>\n",
       "      <td>aar 2012</td>\n",
       "      <td>01-sual2013_audit_report.pdf</td>\n",
       "    </tr>\n",
       "    <tr>\n",
       "      <th>75</th>\n",
       "      <td>NaN</td>\n",
       "      <td>7. payment of infrastructure projects</td>\n",
       "      <td>partially</td>\n",
       "      <td>NaN</td>\n",
       "      <td>according to bac</td>\n",
       "      <td>aar</td>\n",
       "      <td>01-sual2013_audit_report.pdf</td>\n",
       "    </tr>\n",
       "    <tr>\n",
       "      <th>76</th>\n",
       "      <td>NaN</td>\n",
       "      <td>totalling p27,879,640.77 were not supported wi...</td>\n",
       "      <td>implemented</td>\n",
       "      <td>NaN</td>\n",
       "      <td>chairman they already complied and submitted s...</td>\n",
       "      <td>2012</td>\n",
       "      <td>01-sual2013_audit_report.pdf</td>\n",
       "    </tr>\n",
       "    <tr>\n",
       "      <th>78</th>\n",
       "      <td>NaN</td>\n",
       "      <td>9. the gender and development plan and accompl...</td>\n",
       "      <td>unimplemented.</td>\n",
       "      <td>NaN</td>\n",
       "      <td>not yet submitted for review.</td>\n",
       "      <td>aar 2012</td>\n",
       "      <td>01-sual2013_audit_report.pdf</td>\n",
       "    </tr>\n",
       "  </tbody>\n",
       "</table>\n",
       "</div>"
      ],
      "text/plain": [
       "   audit_observation                                    recommendations  \\\n",
       "72               NaN  4. receivables totalling p577,426,807.92 were ...   \n",
       "74               NaN  6. fund transfer to non- governmental organiza...   \n",
       "75               NaN              7. payment of infrastructure projects   \n",
       "76               NaN  totalling p27,879,640.77 were not supported wi...   \n",
       "78               NaN  9. the gender and development plan and accompl...   \n",
       "\n",
       "   status_of_implementation reasons_for_partial_or_non_implementation  \\\n",
       "72           unimplemented.                                       NaN   \n",
       "74    partially implemented                                       NaN   \n",
       "75                partially                                       NaN   \n",
       "76              implemented                                       NaN   \n",
       "78           unimplemented.                                       NaN   \n",
       "\n",
       "                                    management_action references  \\\n",
       "72  requested the staff of the municipal administr...   aar 2012   \n",
       "74            submitted some of the documents needed.   aar 2012   \n",
       "75                                   according to bac        aar   \n",
       "76  chairman they already complied and submitted s...       2012   \n",
       "78                      not yet submitted for review.   aar 2012   \n",
       "\n",
       "                          source  \n",
       "72  01-sual2013_audit_report.pdf  \n",
       "74  01-sual2013_audit_report.pdf  \n",
       "75  01-sual2013_audit_report.pdf  \n",
       "76  01-sual2013_audit_report.pdf  \n",
       "78  01-sual2013_audit_report.pdf  "
      ]
     },
     "execution_count": 129,
     "metadata": {},
     "output_type": "execute_result"
    }
   ],
   "source": [
    "# Snag the indicies \n",
    "stray_status_data = empty_observations.loc[\n",
    "    (empty_observations.status_of_implementation.isna())\n",
    "].index.tolist()\n",
    "\n",
    "# Push reasons_for_partial_or_non_implementation into status_of_implementation\n",
    "# @ those indicies\n",
    "df.loc[stray_status_data, 'status_of_implementation'] \\\n",
    "    = df.loc[stray_status_data, 'reasons_for_partial_or_non_implementation']\n",
    "\n",
    "# Set reasons_for_partial_or_non_implementation to NaN\n",
    "df.loc[stray_status_data, 'reasons_for_partial_or_non_implementation'] = np.nan\n",
    "print(df.loc[stray_status_data].shape)\n",
    "df.loc[stray_status_data].head()\n"
   ]
  },
  {
   "attachments": {},
   "cell_type": "markdown",
   "metadata": {},
   "source": [
    "Nice."
   ]
  },
  {
   "attachments": {},
   "cell_type": "markdown",
   "metadata": {},
   "source": [
    "___"
   ]
  },
  {
   "attachments": {},
   "cell_type": "markdown",
   "metadata": {},
   "source": [
    "### Missing observations with recommendations"
   ]
  },
  {
   "cell_type": "code",
   "execution_count": 130,
   "metadata": {},
   "outputs": [
    {
     "name": "stdout",
     "output_type": "stream",
     "text": [
      "(209, 7)\n"
     ]
    },
    {
     "data": {
      "text/html": [
       "<div>\n",
       "<style scoped>\n",
       "    .dataframe tbody tr th:only-of-type {\n",
       "        vertical-align: middle;\n",
       "    }\n",
       "\n",
       "    .dataframe tbody tr th {\n",
       "        vertical-align: top;\n",
       "    }\n",
       "\n",
       "    .dataframe thead th {\n",
       "        text-align: right;\n",
       "    }\n",
       "</style>\n",
       "<table border=\"1\" class=\"dataframe\">\n",
       "  <thead>\n",
       "    <tr style=\"text-align: right;\">\n",
       "      <th></th>\n",
       "      <th>audit_observation</th>\n",
       "      <th>recommendations</th>\n",
       "      <th>status_of_implementation</th>\n",
       "      <th>reasons_for_partial_or_non_implementation</th>\n",
       "      <th>management_action</th>\n",
       "      <th>references</th>\n",
       "      <th>source</th>\n",
       "    </tr>\n",
       "  </thead>\n",
       "  <tbody>\n",
       "    <tr>\n",
       "      <th>69</th>\n",
       "      <td>NaN</td>\n",
       "      <td>1. collections were not deposited intact with ...</td>\n",
       "      <td>n/a n/a</td>\n",
       "      <td>partially implemented. balances however as of ...</td>\n",
       "      <td>reconciliation between records of the accounti...</td>\n",
       "      <td>aar 2012</td>\n",
       "      <td>01-sual2013_audit_report.pdf</td>\n",
       "    </tr>\n",
       "    <tr>\n",
       "      <th>70</th>\n",
       "      <td>NaN</td>\n",
       "      <td>2. adjusting or correcting entries to take up ...</td>\n",
       "      <td>n/a n/a</td>\n",
       "      <td>partially implemented.</td>\n",
       "      <td>recorded as receivables the bank charges incur...</td>\n",
       "      <td>aar 2012</td>\n",
       "      <td>01-sual2013_audit_report.pdf</td>\n",
       "    </tr>\n",
       "    <tr>\n",
       "      <th>71</th>\n",
       "      <td>NaN</td>\n",
       "      <td>3. cash advances totalling p3,494,355.52 were ...</td>\n",
       "      <td>n/a n/a</td>\n",
       "      <td>partially implemented. the non-granting of cas...</td>\n",
       "      <td>no additional cash advances were granted to of...</td>\n",
       "      <td>aar 2012</td>\n",
       "      <td>01-sual2013_audit_report.pdf</td>\n",
       "    </tr>\n",
       "    <tr>\n",
       "      <th>72</th>\n",
       "      <td>NaN</td>\n",
       "      <td>4. receivables totalling p577,426,807.92 were ...</td>\n",
       "      <td>unimplemented.</td>\n",
       "      <td>NaN</td>\n",
       "      <td>requested the staff of the municipal administr...</td>\n",
       "      <td>aar 2012</td>\n",
       "      <td>01-sual2013_audit_report.pdf</td>\n",
       "    </tr>\n",
       "    <tr>\n",
       "      <th>73</th>\n",
       "      <td>NaN</td>\n",
       "      <td>5. property, plant and equipment account balan...</td>\n",
       "      <td>n/a n/a</td>\n",
       "      <td>unimplemented.</td>\n",
       "      <td>accounting office maintain ppe ledger card for...</td>\n",
       "      <td>aar 2012</td>\n",
       "      <td>01-sual2013_audit_report.pdf</td>\n",
       "    </tr>\n",
       "  </tbody>\n",
       "</table>\n",
       "</div>"
      ],
      "text/plain": [
       "   audit_observation                                    recommendations  \\\n",
       "69               NaN  1. collections were not deposited intact with ...   \n",
       "70               NaN  2. adjusting or correcting entries to take up ...   \n",
       "71               NaN  3. cash advances totalling p3,494,355.52 were ...   \n",
       "72               NaN  4. receivables totalling p577,426,807.92 were ...   \n",
       "73               NaN  5. property, plant and equipment account balan...   \n",
       "\n",
       "   status_of_implementation  \\\n",
       "69                  n/a n/a   \n",
       "70                  n/a n/a   \n",
       "71                  n/a n/a   \n",
       "72           unimplemented.   \n",
       "73                  n/a n/a   \n",
       "\n",
       "            reasons_for_partial_or_non_implementation  \\\n",
       "69  partially implemented. balances however as of ...   \n",
       "70                            partially implemented.    \n",
       "71  partially implemented. the non-granting of cas...   \n",
       "72                                                NaN   \n",
       "73                                    unimplemented.    \n",
       "\n",
       "                                    management_action references  \\\n",
       "69  reconciliation between records of the accounti...  aar 2012    \n",
       "70  recorded as receivables the bank charges incur...  aar 2012    \n",
       "71  no additional cash advances were granted to of...  aar 2012    \n",
       "72  requested the staff of the municipal administr...   aar 2012   \n",
       "73  accounting office maintain ppe ledger card for...  aar 2012    \n",
       "\n",
       "                          source  \n",
       "69  01-sual2013_audit_report.pdf  \n",
       "70  01-sual2013_audit_report.pdf  \n",
       "71  01-sual2013_audit_report.pdf  \n",
       "72  01-sual2013_audit_report.pdf  \n",
       "73  01-sual2013_audit_report.pdf  "
      ]
     },
     "execution_count": 130,
     "metadata": {},
     "output_type": "execute_result"
    }
   ],
   "source": [
    "no_obs_but_has_rec = empty_observations.loc[\n",
    "    (empty_observations.recommendations.notna())\n",
    "].index.tolist()\n",
    "print(df.loc[no_obs_but_has_rec].shape)\n",
    "df.loc[no_obs_but_has_rec].head()\n"
   ]
  },
  {
   "attachments": {},
   "cell_type": "markdown",
   "metadata": {},
   "source": [
    "> We'll take these recommendations and push them into the observation space. We'll also fill the recommendations with NaNs.\n",
    "\n",
    "The reason for this approach is not only that some audit observations were mistakenly put into the recommendations column, but also that we will eventually take this approach for the entire dataset. That is to say, before analysis, we'll squish the `recommendations` and `audit observations` into one column, and then drop the recommendations column. We'll do the same for `reasons for partial/non-implementation` and `status of implementation`."
   ]
  },
  {
   "cell_type": "code",
   "execution_count": 131,
   "metadata": {},
   "outputs": [],
   "source": [
    "df.loc[no_obs_but_has_rec].to_csv('../data/exploration/no_obs_but_has_rec.csv')"
   ]
  },
  {
   "cell_type": "code",
   "execution_count": 132,
   "metadata": {},
   "outputs": [
    {
     "data": {
      "text/html": [
       "<div>\n",
       "<style scoped>\n",
       "    .dataframe tbody tr th:only-of-type {\n",
       "        vertical-align: middle;\n",
       "    }\n",
       "\n",
       "    .dataframe tbody tr th {\n",
       "        vertical-align: top;\n",
       "    }\n",
       "\n",
       "    .dataframe thead th {\n",
       "        text-align: right;\n",
       "    }\n",
       "</style>\n",
       "<table border=\"1\" class=\"dataframe\">\n",
       "  <thead>\n",
       "    <tr style=\"text-align: right;\">\n",
       "      <th></th>\n",
       "      <th>audit_observation</th>\n",
       "      <th>recommendations</th>\n",
       "      <th>status_of_implementation</th>\n",
       "      <th>reasons_for_partial_or_non_implementation</th>\n",
       "      <th>management_action</th>\n",
       "      <th>references</th>\n",
       "      <th>source</th>\n",
       "    </tr>\n",
       "  </thead>\n",
       "  <tbody>\n",
       "    <tr>\n",
       "      <th>69</th>\n",
       "      <td>1. collections were not deposited intact with ...</td>\n",
       "      <td>NaN</td>\n",
       "      <td>n/a n/a</td>\n",
       "      <td>partially implemented. balances however as of ...</td>\n",
       "      <td>reconciliation between records of the accounti...</td>\n",
       "      <td>aar 2012</td>\n",
       "      <td>01-sual2013_audit_report.pdf</td>\n",
       "    </tr>\n",
       "    <tr>\n",
       "      <th>70</th>\n",
       "      <td>2. adjusting or correcting entries to take up ...</td>\n",
       "      <td>NaN</td>\n",
       "      <td>n/a n/a</td>\n",
       "      <td>partially implemented.</td>\n",
       "      <td>recorded as receivables the bank charges incur...</td>\n",
       "      <td>aar 2012</td>\n",
       "      <td>01-sual2013_audit_report.pdf</td>\n",
       "    </tr>\n",
       "    <tr>\n",
       "      <th>71</th>\n",
       "      <td>3. cash advances totalling p3,494,355.52 were ...</td>\n",
       "      <td>NaN</td>\n",
       "      <td>n/a n/a</td>\n",
       "      <td>partially implemented. the non-granting of cas...</td>\n",
       "      <td>no additional cash advances were granted to of...</td>\n",
       "      <td>aar 2012</td>\n",
       "      <td>01-sual2013_audit_report.pdf</td>\n",
       "    </tr>\n",
       "    <tr>\n",
       "      <th>72</th>\n",
       "      <td>4. receivables totalling p577,426,807.92 were ...</td>\n",
       "      <td>NaN</td>\n",
       "      <td>unimplemented.</td>\n",
       "      <td>NaN</td>\n",
       "      <td>requested the staff of the municipal administr...</td>\n",
       "      <td>aar 2012</td>\n",
       "      <td>01-sual2013_audit_report.pdf</td>\n",
       "    </tr>\n",
       "    <tr>\n",
       "      <th>73</th>\n",
       "      <td>5. property, plant and equipment account balan...</td>\n",
       "      <td>NaN</td>\n",
       "      <td>n/a n/a</td>\n",
       "      <td>unimplemented.</td>\n",
       "      <td>accounting office maintain ppe ledger card for...</td>\n",
       "      <td>aar 2012</td>\n",
       "      <td>01-sual2013_audit_report.pdf</td>\n",
       "    </tr>\n",
       "  </tbody>\n",
       "</table>\n",
       "</div>"
      ],
      "text/plain": [
       "                                    audit_observation recommendations  \\\n",
       "69  1. collections were not deposited intact with ...             NaN   \n",
       "70  2. adjusting or correcting entries to take up ...             NaN   \n",
       "71  3. cash advances totalling p3,494,355.52 were ...             NaN   \n",
       "72  4. receivables totalling p577,426,807.92 were ...             NaN   \n",
       "73  5. property, plant and equipment account balan...             NaN   \n",
       "\n",
       "   status_of_implementation  \\\n",
       "69                  n/a n/a   \n",
       "70                  n/a n/a   \n",
       "71                  n/a n/a   \n",
       "72           unimplemented.   \n",
       "73                  n/a n/a   \n",
       "\n",
       "            reasons_for_partial_or_non_implementation  \\\n",
       "69  partially implemented. balances however as of ...   \n",
       "70                            partially implemented.    \n",
       "71  partially implemented. the non-granting of cas...   \n",
       "72                                                NaN   \n",
       "73                                    unimplemented.    \n",
       "\n",
       "                                    management_action references  \\\n",
       "69  reconciliation between records of the accounti...  aar 2012    \n",
       "70  recorded as receivables the bank charges incur...  aar 2012    \n",
       "71  no additional cash advances were granted to of...  aar 2012    \n",
       "72  requested the staff of the municipal administr...   aar 2012   \n",
       "73  accounting office maintain ppe ledger card for...  aar 2012    \n",
       "\n",
       "                          source  \n",
       "69  01-sual2013_audit_report.pdf  \n",
       "70  01-sual2013_audit_report.pdf  \n",
       "71  01-sual2013_audit_report.pdf  \n",
       "72  01-sual2013_audit_report.pdf  \n",
       "73  01-sual2013_audit_report.pdf  "
      ]
     },
     "execution_count": 132,
     "metadata": {},
     "output_type": "execute_result"
    }
   ],
   "source": [
    "df.loc[no_obs_but_has_rec, 'audit_observation'] = \\\n",
    "    df.loc[no_obs_but_has_rec, 'recommendations']\n",
    "    \n",
    "df.loc[no_obs_but_has_rec, 'recommendations'] = np.nan\n",
    "df.loc[no_obs_but_has_rec].head()"
   ]
  },
  {
   "attachments": {},
   "cell_type": "markdown",
   "metadata": {},
   "source": [
    "##### One last check on our audit observations:"
   ]
  },
  {
   "cell_type": "code",
   "execution_count": 133,
   "metadata": {},
   "outputs": [
    {
     "data": {
      "text/plain": [
       "audit_observation                               9\n",
       "recommendations                              1841\n",
       "status_of_implementation                      610\n",
       "reasons_for_partial_or_non_implementation     823\n",
       "management_action                             856\n",
       "references                                    329\n",
       "source                                          0\n",
       "dtype: int64"
      ]
     },
     "execution_count": 133,
     "metadata": {},
     "output_type": "execute_result"
    }
   ],
   "source": [
    "df.isna().sum()"
   ]
  },
  {
   "cell_type": "code",
   "execution_count": 134,
   "metadata": {},
   "outputs": [
    {
     "data": {
      "text/plain": [
       "True"
      ]
     },
     "execution_count": 134,
     "metadata": {},
     "output_type": "execute_result"
    }
   ],
   "source": [
    "# confirming that we have the right indicies to drop\n",
    "df.loc[df.audit_observation.isna()].index.tolist() == to_drop"
   ]
  },
  {
   "cell_type": "code",
   "execution_count": 135,
   "metadata": {},
   "outputs": [
    {
     "name": "stdout",
     "output_type": "stream",
     "text": [
      "There were 3 overlapping indicies between to_drop and needs_repair.\n"
     ]
    }
   ],
   "source": [
    "# If there is any overlap between the two lists, then to_drop will take precedence.\n",
    "# We risk interfering with other data if we repair unnecessarily. \n",
    "intersect = set.intersection(set(to_drop), set(needs_repair))\n",
    "if intersect:\n",
    "    needs_repair = list(set(needs_repair) - set(to_drop))\n",
    "    print(f\"There were {len(intersect)} overlapping indicies between to_drop and needs_repair.\")\n",
    "else:\n",
    "    print(\"Good to go!\")"
   ]
  },
  {
   "attachments": {},
   "cell_type": "markdown",
   "metadata": {},
   "source": [
    "Now that we have all of this done, we'll create our overflow repair function and apply it to the `needs_repair` indicies.\n",
    "Then we can drop both the `to_drop` and `needs_repair` indicies and tidy up the dataframe."
   ]
  },
  {
   "attachments": {},
   "cell_type": "markdown",
   "metadata": {},
   "source": [
    "___"
   ]
  },
  {
   "attachments": {},
   "cell_type": "markdown",
   "metadata": {},
   "source": [
    "## Overflow Correction\n",
    "\n",
    "Due to the nature of the corpus, there are a lot of instances where the text is cut off between pages or floating between rows. This is due to the fact that the text comes from **EXTREMELY** poorly formatted pdf tables. The computer vision PDF scraping library, [camelot](https://pypi.org/project/camelot-py/), that was used in the data pipeline is not able to handle these tables, so we have to manually correct the data from them."
   ]
  },
  {
   "attachments": {},
   "cell_type": "markdown",
   "metadata": {},
   "source": [
    "\n",
    "Examples:\n",
    "\n",
    "![\"What is going on\"](../img/pdf/datadisarray.png)\n",
    "\n",
    "![\"What are columns?\"](../img/pdf/whatarecolumns.png)\n",
    "\n",
    "![\"Uhhhh...](../img/pdf/uhhhhh.png)\n"
   ]
  },
  {
   "attachments": {},
   "cell_type": "markdown",
   "metadata": {},
   "source": [
    "### Overflow Correction Function\n",
    "\n",
    "- Source column makes it difficult/annoying to concatinate the overflow back to the original without duplicating the value. "
   ]
  },
  {
   "cell_type": "code",
   "execution_count": 136,
   "metadata": {},
   "outputs": [],
   "source": [
    "# Join the rows with overflowed data back to the previous row\n",
    "def overflow_repair(df: pd.DataFrame, ovfl_ind: list):\n",
    "    for i in ovfl_ind:\n",
    "        if i == 0: # Skip the first row, can't be overflow\n",
    "            continue\n",
    "        cols = df.columns.tolist()\n",
    "        cols.remove('source') # Exclude source column\n",
    "        try:\n",
    "            df.loc[i - 1, cols] += \" \" + df.loc[i, cols]\n",
    "        except:\n",
    "            raise f\"Error at index {i}\"\n",
    "    return df"
   ]
  },
  {
   "cell_type": "code",
   "execution_count": 137,
   "metadata": {},
   "outputs": [],
   "source": [
    "df = overflow_repair(df, needs_repair)"
   ]
  },
  {
   "attachments": {},
   "cell_type": "markdown",
   "metadata": {},
   "source": [
    "> Time to deal with `needs_repair` and `to_drop`!"
   ]
  },
  {
   "cell_type": "code",
   "execution_count": 138,
   "metadata": {},
   "outputs": [
    {
     "name": "stdout",
     "output_type": "stream",
     "text": [
      "(4736, 7)\n"
     ]
    },
    {
     "data": {
      "text/plain": [
       "(4716, 7)"
      ]
     },
     "execution_count": 138,
     "metadata": {},
     "output_type": "execute_result"
    }
   ],
   "source": [
    "print(df.shape)\n",
    "df = df.drop(index=needs_repair)\n",
    "df = df.drop(index=to_drop)\n",
    "df = df.reset_index(drop=True)\n",
    "df.shape"
   ]
  },
  {
   "attachments": {},
   "cell_type": "markdown",
   "metadata": {},
   "source": [
    "___"
   ]
  },
  {
   "attachments": {},
   "cell_type": "markdown",
   "metadata": {},
   "source": [
    "## Regex-Based Overflow Repair \n",
    "In order to ensure that each row is a single observation, we'll need to do some regex parsing of the string data. I've noticed a pattern, that is, that each distinct observation comes numbered with something like \" 1. \" or \" 2) \" etc. We can use this pattern to detect overflow. \n",
    "\n",
    "However, I've found that this is only relevant when a particular source has numbers for some observations and not for others. Some sources have no numberings for any observations, and some have numberings for all observations. "
   ]
  },
  {
   "cell_type": "markdown",
   "metadata": {},
   "source": [
    "\n",
    "Example:\n",
    "\n",
    "| Audit Observation | Source |\n",
    "| --- | --- |\n",
    "| 1. Hello World! | 1 |\n",
    "| 2. Hello World! | 1 |\n",
    "| 3. Hello World! | 1 |\n",
    "| 1. Hello W | 2 |\n",
    "| orld!. | 2 |\n",
    "| 2. Hello World! | 2 |\n",
    "| Hello World! | 3 |\n",
    "| Hello World! | 3 |\n",
    "| Hello World! | 3 |\n"
   ]
  },
  {
   "cell_type": "code",
   "execution_count": 139,
   "metadata": {},
   "outputs": [],
   "source": [
    "import re\n",
    "\n",
    "def is_distinct_audit(string):\n",
    "    \"\"\"\n",
    "    Something consistent in the audit observation column is that overflow rows do \n",
    "    not contain a numbered 'index' e.g. 1. or 2)  etc. in the first 20 or so\n",
    "    characters in the string. This function checks for that pattern and returns True\n",
    "    if it is found.\n",
    "    \n",
    "    Note: This is not a perfect solution, as some of the observations do not follow\n",
    "    this pattern. However, it better than nothing.\n",
    "    \n",
    "    Parameters\n",
    "    ----------\n",
    "    string : str\n",
    "        The string to check for the pattern.\n",
    "    \n",
    "    Returns\n",
    "    -------\n",
    "    bool : True if the pattern is found, False otherwise.\n",
    "    \"\"\"\n",
    "    string = str(string)[:20]\n",
    "    regex = r'(\\d+\\.)|(\\)\\s)|(\\s\\d+\\s)|(\\d+\\s+)'\n",
    "    matches = re.findall(regex, string)\n",
    "    return bool(matches)"
   ]
  },
  {
   "cell_type": "code",
   "execution_count": 140,
   "metadata": {},
   "outputs": [
    {
     "name": "stdout",
     "output_type": "stream",
     "text": [
      "364\n",
      "[32, 36, 40, 42, 45, 46, 47, 48, 55, 76, 102, 112, 121, 150, 201, 202, 203, 204, 476, 489, 522, 564, 566, 568, 570, 572, 574, 575, 577, 579, 581, 582, 585, 598, 620, 686, 688, 692, 694, 742, 763, 828, 887, 888, 889, 891, 892, 893, 894, 895, 897, 898, 899, 900, 901, 902, 903, 904, 905, 906, 907, 978, 981, 983, 985, 988, 1034, 1039, 1040, 1041, 1042, 1043, 1044, 1045, 1046, 1047, 1048, 1066, 1105, 1113, 1116, 1126, 1146, 1149, 1152, 1154, 1156, 1284, 1287, 1288, 1289, 1295, 1326, 1327, 1350, 1401, 1403, 1405, 1406, 1419, 1420, 1422, 1424, 1425, 1427, 1433, 1508, 1509, 1512, 1535, 1537, 1573, 1619, 1646, 1719, 1725, 1727, 1729, 1731, 1734, 1738, 1740, 1741, 1744, 1791, 1826, 1852, 1856, 1858, 1859, 1868, 1869, 1870, 1901, 1938, 1939, 1941, 1943, 1945, 1946, 1948, 1950, 1956, 1966, 2006, 2007, 2009, 2010, 2046, 2209, 2216, 2218, 2225, 2233, 2252, 2253, 2254, 2255, 2256, 2258, 2259, 2305, 2325, 2326, 2327, 2385, 2436, 2440, 2488, 2492, 2523, 2562, 2584, 2589, 2596, 2631, 2632, 2634, 2647, 2673, 2677, 2679, 2680, 2683, 2687, 2691, 2702, 2703, 2707, 2734, 2777, 2779, 2782, 2832, 2833, 2834, 2846, 2851, 2863, 2866, 2869, 2870, 2876, 2878, 2944, 2995, 2996, 2997, 3000, 3002, 3005, 3006, 3011, 3013, 3045, 3056, 3059, 3060, 3061, 3063, 3064, 3066, 3068, 3069, 3082, 3083, 3084, 3087, 3089, 3091, 3092, 3093, 3094, 3095, 3096, 3097, 3098, 3099, 3100, 3101, 3102, 3103, 3104, 3105, 3106, 3107, 3108, 3109, 3110, 3111, 3112, 3113, 3131, 3134, 3135, 3137, 3140, 3142, 3146, 3149, 3151, 3153, 3161, 3165, 3167, 3203, 3217, 3218, 3219, 3224, 3226, 3227, 3228, 3229, 3232, 3233, 3236, 3237, 3251, 3252, 3253, 3280, 3380, 3437, 3445, 3461, 3473, 3483, 3487, 3489, 3498, 3499, 3517, 3626, 3637, 3668, 3669, 3670, 3671, 3672, 3673, 3674, 3675, 3676, 3677, 3678, 3679, 3680, 3681, 3683, 3684, 3733, 3760, 3762, 3815, 3818, 3850, 4049, 4061, 4076, 4078, 4116, 4138, 4139, 4140, 4144, 4145, 4163, 4234, 4251, 4289, 4291, 4353, 4355, 4356, 4358, 4360, 4363, 4364, 4366, 4367, 4379, 4401, 4454, 4455, 4456, 4457, 4485, 4601, 4602, 4607, 4610, 4616, 4619, 4637, 4638, 4642, 4645, 4648, 4650, 4682, 4689, 4692, 4715]\n"
     ]
    }
   ],
   "source": [
    "# For each source:\n",
    "# ---------------------------\n",
    "# If there are  a n y  distinct observations, AND there are [more than 2]\n",
    "# distinct observations identified through the regex parsing, then there \n",
    "# are overflow rows in that source. We'll grab the indicies of the\n",
    "# overflow rows and add them to a list.\n",
    "count = 0\n",
    "original_indicies_of_overflow = []\n",
    "for source in df.source.unique():\n",
    "    frame = df.loc[df.source == source, 'audit_observation']\n",
    "    distinct = frame.apply(is_distinct_audit).sum()\n",
    "    if (distinct > 2 and distinct != len(frame)): \n",
    "        indicies = frame.loc[\n",
    "            frame.apply(is_distinct_audit) == False\n",
    "        ].index.tolist()\n",
    "        count += len(indicies)\n",
    "        original_indicies_of_overflow.extend(indicies)\n",
    "\n",
    "print(count)\n",
    "print(original_indicies_of_overflow)"
   ]
  },
  {
   "cell_type": "code",
   "execution_count": 141,
   "metadata": {},
   "outputs": [
    {
     "name": "stdout",
     "output_type": "stream",
     "text": [
      "(4716, 7)\n"
     ]
    },
    {
     "data": {
      "text/plain": [
       "(4352, 7)"
      ]
     },
     "execution_count": 141,
     "metadata": {},
     "output_type": "execute_result"
    }
   ],
   "source": [
    "df = overflow_repair(df, original_indicies_of_overflow)\n",
    "print(df.shape)\n",
    "df = df.drop(index=original_indicies_of_overflow)\n",
    "df = df.reset_index(drop=True)\n",
    "df.shape"
   ]
  },
  {
   "attachments": {},
   "cell_type": "markdown",
   "metadata": {},
   "source": [
    "> It can be discouraging to see that sample size decrease over time, but it'll be worth it when the data is squeaky clean!"
   ]
  },
  {
   "attachments": {},
   "cell_type": "markdown",
   "metadata": {},
   "source": [
    "___"
   ]
  },
  {
   "attachments": {},
   "cell_type": "markdown",
   "metadata": {},
   "source": [
    "## Creating Conglomerated Text Features:"
   ]
  },
  {
   "attachments": {},
   "cell_type": "markdown",
   "metadata": {},
   "source": [
    "In at least half of the cases in which the audit observation is empty and the recommendation is filled, the recommendation column contains details about the audit observation. Sometimes those \"recommendations\" are the actual audit observation that's gone astray. In any case, we are going to combine these features for all observations. \n",
    "\n",
    "We'll be calculating the word embeddings (more on that later) in the unsupervised learning portion of this analysis. By combining the two text features, I believe that we'll end up providing valuable information about the status of implementation (target) to our word embedding transformer that will hopefully bolster our results."
   ]
  },
  {
   "cell_type": "code",
   "execution_count": 142,
   "metadata": {},
   "outputs": [],
   "source": [
    "df.audit_observation += \" \" + df.recommendations.fillna('')\n",
    "df.drop(columns=['recommendations'], inplace=True)"
   ]
  },
  {
   "cell_type": "code",
   "execution_count": 143,
   "metadata": {},
   "outputs": [
    {
     "data": {
      "text/html": [
       "<div>\n",
       "<style scoped>\n",
       "    .dataframe tbody tr th:only-of-type {\n",
       "        vertical-align: middle;\n",
       "    }\n",
       "\n",
       "    .dataframe tbody tr th {\n",
       "        vertical-align: top;\n",
       "    }\n",
       "\n",
       "    .dataframe thead th {\n",
       "        text-align: right;\n",
       "    }\n",
       "</style>\n",
       "<table border=\"1\" class=\"dataframe\">\n",
       "  <thead>\n",
       "    <tr style=\"text-align: right;\">\n",
       "      <th></th>\n",
       "      <th>audit_observation</th>\n",
       "      <th>status_of_implementation</th>\n",
       "      <th>reasons_for_partial_or_non_implementation</th>\n",
       "      <th>management_action</th>\n",
       "      <th>references</th>\n",
       "      <th>source</th>\n",
       "    </tr>\n",
       "  </thead>\n",
       "  <tbody>\n",
       "    <tr>\n",
       "      <th>0</th>\n",
       "      <td>9. payments of honoraria to bids and awards co...</td>\n",
       "      <td>fully implemented</td>\n",
       "      <td>NaN</td>\n",
       "      <td>all taxes due have been deducted from honorari...</td>\n",
       "      <td>NaN</td>\n",
       "      <td>09-taysan2013_part3-status_of_py's_recommendat...</td>\n",
       "    </tr>\n",
       "    <tr>\n",
       "      <th>1</th>\n",
       "      <td>1. the cash in bank – local currency, current ...</td>\n",
       "      <td>fully implemented</td>\n",
       "      <td>NaN</td>\n",
       "      <td>the municipal accountant was already instructe...</td>\n",
       "      <td>aar 2012</td>\n",
       "      <td>12-valencia2013_status_of_py's_recommendation.pdf</td>\n",
       "    </tr>\n",
       "    <tr>\n",
       "      <th>2</th>\n",
       "      <td>2. collectors failed to remit their collection...</td>\n",
       "      <td>partially implemented</td>\n",
       "      <td>there are still instances wherein collectors f...</td>\n",
       "      <td>a memorandum on the matter was already issued ...</td>\n",
       "      <td>aar 2012</td>\n",
       "      <td>12-valencia2013_status_of_py's_recommendation.pdf</td>\n",
       "    </tr>\n",
       "    <tr>\n",
       "      <th>3</th>\n",
       "      <td>3. the collections remitted to the municipal t...</td>\n",
       "      <td>partially implemented</td>\n",
       "      <td></td>\n",
       "      <td>a memorandum on the matter was already issued ...</td>\n",
       "      <td>aar 2012</td>\n",
       "      <td>12-valencia2013_status_of_py's_recommendation.pdf</td>\n",
       "    </tr>\n",
       "    <tr>\n",
       "      <th>4</th>\n",
       "      <td>4. existence, validity and correctness of the ...</td>\n",
       "      <td>partially implemented</td>\n",
       "      <td>the plan of conducting the physical count of p...</td>\n",
       "      <td>this office has already constituted an invento...</td>\n",
       "      <td>aar 2012</td>\n",
       "      <td>12-valencia2013_status_of_py's_recommendation.pdf</td>\n",
       "    </tr>\n",
       "  </tbody>\n",
       "</table>\n",
       "</div>"
      ],
      "text/plain": [
       "                                   audit_observation status_of_implementation  \\\n",
       "0  9. payments of honoraria to bids and awards co...        fully implemented   \n",
       "1  1. the cash in bank – local currency, current ...        fully implemented   \n",
       "2  2. collectors failed to remit their collection...    partially implemented   \n",
       "3  3. the collections remitted to the municipal t...   partially implemented    \n",
       "4  4. existence, validity and correctness of the ...    partially implemented   \n",
       "\n",
       "           reasons_for_partial_or_non_implementation  \\\n",
       "0                                                NaN   \n",
       "1                                                NaN   \n",
       "2  there are still instances wherein collectors f...   \n",
       "3                                                      \n",
       "4  the plan of conducting the physical count of p...   \n",
       "\n",
       "                                   management_action references  \\\n",
       "0  all taxes due have been deducted from honorari...        NaN   \n",
       "1  the municipal accountant was already instructe...   aar 2012   \n",
       "2  a memorandum on the matter was already issued ...   aar 2012   \n",
       "3  a memorandum on the matter was already issued ...  aar 2012    \n",
       "4  this office has already constituted an invento...   aar 2012   \n",
       "\n",
       "                                              source  \n",
       "0  09-taysan2013_part3-status_of_py's_recommendat...  \n",
       "1  12-valencia2013_status_of_py's_recommendation.pdf  \n",
       "2  12-valencia2013_status_of_py's_recommendation.pdf  \n",
       "3  12-valencia2013_status_of_py's_recommendation.pdf  \n",
       "4  12-valencia2013_status_of_py's_recommendation.pdf  "
      ]
     },
     "execution_count": 143,
     "metadata": {},
     "output_type": "execute_result"
    }
   ],
   "source": [
    "df.head()"
   ]
  },
  {
   "cell_type": "code",
   "execution_count": 144,
   "metadata": {},
   "outputs": [
    {
     "data": {
      "text/plain": [
       "0"
      ]
     },
     "execution_count": 144,
     "metadata": {},
     "output_type": "execute_result"
    }
   ],
   "source": [
    "df.audit_observation.isna().sum()"
   ]
  },
  {
   "attachments": {},
   "cell_type": "markdown",
   "metadata": {},
   "source": [
    "> Great! Now our `audit observation` column is good to go."
   ]
  },
  {
   "attachments": {},
   "cell_type": "markdown",
   "metadata": {},
   "source": [
    "___"
   ]
  },
  {
   "attachments": {},
   "cell_type": "markdown",
   "metadata": {},
   "source": [
    "## The Status of Implementation Column\n",
    "\n",
    "In further analysis, the `status of implementation` column will be used as the target feature. Since there are so many missings here, we'll need to do some investigation and cleaning to ascertain the true status of implementation for each observation. We'll go through this column in much the same way as we went through the `audit_observation` column -- assessing the overlap between missing values and the other columns."
   ]
  },
  {
   "cell_type": "code",
   "execution_count": 145,
   "metadata": {},
   "outputs": [
    {
     "data": {
      "text/plain": [
       "532"
      ]
     },
     "execution_count": 145,
     "metadata": {},
     "output_type": "execute_result"
    }
   ],
   "source": [
    "df.status_of_implementation.isna().sum()"
   ]
  },
  {
   "attachments": {},
   "cell_type": "markdown",
   "metadata": {},
   "source": [
    "### Empty status of implementation with no recommendations"
   ]
  },
  {
   "cell_type": "code",
   "execution_count": 146,
   "metadata": {},
   "outputs": [
    {
     "name": "stdout",
     "output_type": "stream",
     "text": [
      "(71, 6)\n"
     ]
    },
    {
     "data": {
      "text/html": [
       "<div>\n",
       "<style scoped>\n",
       "    .dataframe tbody tr th:only-of-type {\n",
       "        vertical-align: middle;\n",
       "    }\n",
       "\n",
       "    .dataframe tbody tr th {\n",
       "        vertical-align: top;\n",
       "    }\n",
       "\n",
       "    .dataframe thead th {\n",
       "        text-align: right;\n",
       "    }\n",
       "</style>\n",
       "<table border=\"1\" class=\"dataframe\">\n",
       "  <thead>\n",
       "    <tr style=\"text-align: right;\">\n",
       "      <th></th>\n",
       "      <th>audit_observation</th>\n",
       "      <th>status_of_implementation</th>\n",
       "      <th>reasons_for_partial_or_non_implementation</th>\n",
       "      <th>management_action</th>\n",
       "      <th>references</th>\n",
       "      <th>source</th>\n",
       "    </tr>\n",
       "  </thead>\n",
       "  <tbody>\n",
       "    <tr>\n",
       "      <th>527</th>\n",
       "      <td>this finding is reiterated in part ii of this ...</td>\n",
       "      <td>NaN</td>\n",
       "      <td>NaN</td>\n",
       "      <td>not implemented partially implemented</td>\n",
       "      <td>cy 2012 aar cy 2012 aar</td>\n",
       "      <td>11-moncada2013_part3-status_of_py's_recommenda...</td>\n",
       "    </tr>\n",
       "    <tr>\n",
       "      <th>650</th>\n",
       "      <td>1. various reconciling items in the bank recon...</td>\n",
       "      <td>NaN</td>\n",
       "      <td>NaN</td>\n",
       "      <td>partially implemented partially implemented</td>\n",
       "      <td>2012 aar 2012 aar</td>\n",
       "      <td>11-mayantoc2013_part3-status_of_py's_recommend...</td>\n",
       "    </tr>\n",
       "    <tr>\n",
       "      <th>651</th>\n",
       "      <td>3. recorded receivables amounting to p49,404.0...</td>\n",
       "      <td>NaN</td>\n",
       "      <td>NaN</td>\n",
       "      <td>partially implemented not implemented</td>\n",
       "      <td>2012 aar 2012 aar</td>\n",
       "      <td>11-mayantoc2013_part3-status_of_py's_recommend...</td>\n",
       "    </tr>\n",
       "    <tr>\n",
       "      <th>652</th>\n",
       "      <td>5. the reported property, plant and equipment ...</td>\n",
       "      <td>NaN</td>\n",
       "      <td>NaN</td>\n",
       "      <td>partially implemented</td>\n",
       "      <td>2012 aar</td>\n",
       "      <td>11-mayantoc2013_part3-status_of_py's_recommend...</td>\n",
       "    </tr>\n",
       "    <tr>\n",
       "      <th>653</th>\n",
       "      <td>6. due to inadequate planning, development fun...</td>\n",
       "      <td>NaN</td>\n",
       "      <td>NaN</td>\n",
       "      <td>partially implemented</td>\n",
       "      <td>2012 aar</td>\n",
       "      <td>11-mayantoc2013_part3-status_of_py's_recommend...</td>\n",
       "    </tr>\n",
       "  </tbody>\n",
       "</table>\n",
       "</div>"
      ],
      "text/plain": [
       "                                     audit_observation  \\\n",
       "527  this finding is reiterated in part ii of this ...   \n",
       "650  1. various reconciling items in the bank recon...   \n",
       "651  3. recorded receivables amounting to p49,404.0...   \n",
       "652  5. the reported property, plant and equipment ...   \n",
       "653  6. due to inadequate planning, development fun...   \n",
       "\n",
       "    status_of_implementation reasons_for_partial_or_non_implementation  \\\n",
       "527                      NaN                                       NaN   \n",
       "650                      NaN                                       NaN   \n",
       "651                      NaN                                       NaN   \n",
       "652                      NaN                                       NaN   \n",
       "653                      NaN                                       NaN   \n",
       "\n",
       "                                management_action               references  \\\n",
       "527         not implemented partially implemented  cy 2012 aar cy 2012 aar   \n",
       "650  partially implemented partially implemented        2012 aar 2012 aar    \n",
       "651        partially implemented not implemented        2012 aar 2012 aar    \n",
       "652                         partially implemented                 2012 aar   \n",
       "653                         partially implemented                 2012 aar   \n",
       "\n",
       "                                                source  \n",
       "527  11-moncada2013_part3-status_of_py's_recommenda...  \n",
       "650  11-mayantoc2013_part3-status_of_py's_recommend...  \n",
       "651  11-mayantoc2013_part3-status_of_py's_recommend...  \n",
       "652  11-mayantoc2013_part3-status_of_py's_recommend...  \n",
       "653  11-mayantoc2013_part3-status_of_py's_recommend...  "
      ]
     },
     "execution_count": 146,
     "metadata": {},
     "output_type": "execute_result"
    }
   ],
   "source": [
    "no_status_no_reason = df.loc[\n",
    "    (df.status_of_implementation.isna()) & \n",
    "    (df.reasons_for_partial_or_non_implementation.isna())\n",
    "]\n",
    "print(no_status_no_reason.shape)\n",
    "no_status_no_reason.head()"
   ]
  },
  {
   "attachments": {},
   "cell_type": "markdown",
   "metadata": {},
   "source": [
    "> Interesting. After browsing the data in a spreadsheet viewer, I confirmed that some of the `management actions` are actually the `status of implementation`. It occurs *specifically* (only) when there is data in the `references` column as well!"
   ]
  },
  {
   "cell_type": "code",
   "execution_count": 147,
   "metadata": {},
   "outputs": [],
   "source": [
    "no_status_no_reason.to_csv('../data/exploration/no_status_no_reason_with_recs.csv')"
   ]
  },
  {
   "cell_type": "code",
   "execution_count": 148,
   "metadata": {},
   "outputs": [],
   "source": [
    "# Save the indicies of stray statuses\n",
    "status_roundup = df.loc[\n",
    "    (df.status_of_implementation.isna()) &\n",
    "    (df.reasons_for_partial_or_non_implementation.isna()) &\n",
    "    (df.references.notna())\n",
    "].index.tolist()"
   ]
  },
  {
   "cell_type": "code",
   "execution_count": 149,
   "metadata": {},
   "outputs": [
    {
     "data": {
      "text/html": [
       "<div>\n",
       "<style scoped>\n",
       "    .dataframe tbody tr th:only-of-type {\n",
       "        vertical-align: middle;\n",
       "    }\n",
       "\n",
       "    .dataframe tbody tr th {\n",
       "        vertical-align: top;\n",
       "    }\n",
       "\n",
       "    .dataframe thead th {\n",
       "        text-align: right;\n",
       "    }\n",
       "</style>\n",
       "<table border=\"1\" class=\"dataframe\">\n",
       "  <thead>\n",
       "    <tr style=\"text-align: right;\">\n",
       "      <th></th>\n",
       "      <th>audit_observation</th>\n",
       "      <th>status_of_implementation</th>\n",
       "      <th>reasons_for_partial_or_non_implementation</th>\n",
       "      <th>management_action</th>\n",
       "      <th>references</th>\n",
       "      <th>source</th>\n",
       "    </tr>\n",
       "  </thead>\n",
       "  <tbody>\n",
       "    <tr>\n",
       "      <th>527</th>\n",
       "      <td>this finding is reiterated in part ii of this ...</td>\n",
       "      <td>not implemented partially implemented</td>\n",
       "      <td>NaN</td>\n",
       "      <td>NaN</td>\n",
       "      <td>cy 2012 aar cy 2012 aar</td>\n",
       "      <td>11-moncada2013_part3-status_of_py's_recommenda...</td>\n",
       "    </tr>\n",
       "    <tr>\n",
       "      <th>650</th>\n",
       "      <td>1. various reconciling items in the bank recon...</td>\n",
       "      <td>partially implemented partially implemented</td>\n",
       "      <td>NaN</td>\n",
       "      <td>NaN</td>\n",
       "      <td>2012 aar 2012 aar</td>\n",
       "      <td>11-mayantoc2013_part3-status_of_py's_recommend...</td>\n",
       "    </tr>\n",
       "    <tr>\n",
       "      <th>651</th>\n",
       "      <td>3. recorded receivables amounting to p49,404.0...</td>\n",
       "      <td>partially implemented not implemented</td>\n",
       "      <td>NaN</td>\n",
       "      <td>NaN</td>\n",
       "      <td>2012 aar 2012 aar</td>\n",
       "      <td>11-mayantoc2013_part3-status_of_py's_recommend...</td>\n",
       "    </tr>\n",
       "    <tr>\n",
       "      <th>652</th>\n",
       "      <td>5. the reported property, plant and equipment ...</td>\n",
       "      <td>partially implemented</td>\n",
       "      <td>NaN</td>\n",
       "      <td>NaN</td>\n",
       "      <td>2012 aar</td>\n",
       "      <td>11-mayantoc2013_part3-status_of_py's_recommend...</td>\n",
       "    </tr>\n",
       "    <tr>\n",
       "      <th>653</th>\n",
       "      <td>6. due to inadequate planning, development fun...</td>\n",
       "      <td>partially implemented</td>\n",
       "      <td>NaN</td>\n",
       "      <td>NaN</td>\n",
       "      <td>2012 aar</td>\n",
       "      <td>11-mayantoc2013_part3-status_of_py's_recommend...</td>\n",
       "    </tr>\n",
       "  </tbody>\n",
       "</table>\n",
       "</div>"
      ],
      "text/plain": [
       "                                     audit_observation  \\\n",
       "527  this finding is reiterated in part ii of this ...   \n",
       "650  1. various reconciling items in the bank recon...   \n",
       "651  3. recorded receivables amounting to p49,404.0...   \n",
       "652  5. the reported property, plant and equipment ...   \n",
       "653  6. due to inadequate planning, development fun...   \n",
       "\n",
       "                         status_of_implementation  \\\n",
       "527         not implemented partially implemented   \n",
       "650  partially implemented partially implemented    \n",
       "651        partially implemented not implemented    \n",
       "652                         partially implemented   \n",
       "653                         partially implemented   \n",
       "\n",
       "    reasons_for_partial_or_non_implementation management_action  \\\n",
       "527                                       NaN               NaN   \n",
       "650                                       NaN               NaN   \n",
       "651                                       NaN               NaN   \n",
       "652                                       NaN               NaN   \n",
       "653                                       NaN               NaN   \n",
       "\n",
       "                  references  \\\n",
       "527  cy 2012 aar cy 2012 aar   \n",
       "650       2012 aar 2012 aar    \n",
       "651       2012 aar 2012 aar    \n",
       "652                 2012 aar   \n",
       "653                 2012 aar   \n",
       "\n",
       "                                                source  \n",
       "527  11-moncada2013_part3-status_of_py's_recommenda...  \n",
       "650  11-mayantoc2013_part3-status_of_py's_recommend...  \n",
       "651  11-mayantoc2013_part3-status_of_py's_recommend...  \n",
       "652  11-mayantoc2013_part3-status_of_py's_recommend...  \n",
       "653  11-mayantoc2013_part3-status_of_py's_recommend...  "
      ]
     },
     "execution_count": 149,
     "metadata": {},
     "output_type": "execute_result"
    }
   ],
   "source": [
    "# round 'em up and put 'em where they belong\n",
    "df.loc[status_roundup, 'status_of_implementation'] = \\\n",
    "    df.loc[status_roundup, 'management_action']\n",
    "df.loc[status_roundup, 'management_action'] = np.nan\n",
    "df.loc[status_roundup].head()"
   ]
  },
  {
   "attachments": {},
   "cell_type": "markdown",
   "metadata": {},
   "source": [
    "___"
   ]
  },
  {
   "attachments": {},
   "cell_type": "markdown",
   "metadata": {},
   "source": [
    "### No Status, with Reasons? (Missing statuses pt.2)\n",
    "\n",
    "> In the vast majority of cases, the reasons for partial or non-implementation contain an indication of the status of implementation. Though this isn't a perfect solution, we'll take a slight shortcut by sliding the those `reasons` over to the missing status column entries."
   ]
  },
  {
   "cell_type": "code",
   "execution_count": 150,
   "metadata": {},
   "outputs": [
    {
     "name": "stdout",
     "output_type": "stream",
     "text": [
      "(490, 6)\n"
     ]
    },
    {
     "data": {
      "text/html": [
       "<div>\n",
       "<style scoped>\n",
       "    .dataframe tbody tr th:only-of-type {\n",
       "        vertical-align: middle;\n",
       "    }\n",
       "\n",
       "    .dataframe tbody tr th {\n",
       "        vertical-align: top;\n",
       "    }\n",
       "\n",
       "    .dataframe thead th {\n",
       "        text-align: right;\n",
       "    }\n",
       "</style>\n",
       "<table border=\"1\" class=\"dataframe\">\n",
       "  <thead>\n",
       "    <tr style=\"text-align: right;\">\n",
       "      <th></th>\n",
       "      <th>audit_observation</th>\n",
       "      <th>status_of_implementation</th>\n",
       "      <th>reasons_for_partial_or_non_implementation</th>\n",
       "      <th>management_action</th>\n",
       "      <th>references</th>\n",
       "      <th>source</th>\n",
       "    </tr>\n",
       "  </thead>\n",
       "  <tbody>\n",
       "    <tr>\n",
       "      <th>17</th>\n",
       "      <td>7. long overdue uncollected receivables from r...</td>\n",
       "      <td>NaN</td>\n",
       "      <td>recommendation was not implemented. records an...</td>\n",
       "      <td>the account remained dormant during the past 2...</td>\n",
       "      <td>aar cy 2011</td>\n",
       "      <td>05-solana2013_part3-status_of_implementations_...</td>\n",
       "    </tr>\n",
       "    <tr>\n",
       "      <th>18</th>\n",
       "      <td>8. collection from various accounts in the amo...</td>\n",
       "      <td>NaN</td>\n",
       "      <td>recommendation was implemented early jan. 2013.</td>\n",
       "      <td>year-end collections were not deposited before...</td>\n",
       "      <td>aar cy 2012</td>\n",
       "      <td>05-solana2013_part3-status_of_implementations_...</td>\n",
       "    </tr>\n",
       "    <tr>\n",
       "      <th>20</th>\n",
       "      <td>10. disallowances amounting to p560,348.36 rem...</td>\n",
       "      <td>NaN</td>\n",
       "      <td>recommendation was partially implemented. this...</td>\n",
       "      <td>there was a settlement of p73,248.36.</td>\n",
       "      <td>aar cy 2012</td>\n",
       "      <td>05-solana2013_part3-status_of_implementations_...</td>\n",
       "    </tr>\n",
       "    <tr>\n",
       "      <th>21</th>\n",
       "      <td>11. the newly constructed market totaling to p...</td>\n",
       "      <td>NaN</td>\n",
       "      <td>recommendation was partially implemented. this...</td>\n",
       "      <td>not acted upon during the year.</td>\n",
       "      <td>aar cy 2012</td>\n",
       "      <td>05-solana2013_part3-status_of_implementations_...</td>\n",
       "    </tr>\n",
       "    <tr>\n",
       "      <th>49</th>\n",
       "      <td>11. remittance of taxes withheld are sometimes...</td>\n",
       "      <td>NaN</td>\n",
       "      <td>fully implemented.</td>\n",
       "      <td>management has been vigilant in the remittance...</td>\n",
       "      <td>cy 2012 aar</td>\n",
       "      <td>05-solano2013_part3-status_of_pys_audit_recomm...</td>\n",
       "    </tr>\n",
       "  </tbody>\n",
       "</table>\n",
       "</div>"
      ],
      "text/plain": [
       "                                    audit_observation  \\\n",
       "17  7. long overdue uncollected receivables from r...   \n",
       "18  8. collection from various accounts in the amo...   \n",
       "20  10. disallowances amounting to p560,348.36 rem...   \n",
       "21  11. the newly constructed market totaling to p...   \n",
       "49  11. remittance of taxes withheld are sometimes...   \n",
       "\n",
       "   status_of_implementation  \\\n",
       "17                      NaN   \n",
       "18                      NaN   \n",
       "20                      NaN   \n",
       "21                      NaN   \n",
       "49                      NaN   \n",
       "\n",
       "            reasons_for_partial_or_non_implementation  \\\n",
       "17  recommendation was not implemented. records an...   \n",
       "18    recommendation was implemented early jan. 2013.   \n",
       "20  recommendation was partially implemented. this...   \n",
       "21  recommendation was partially implemented. this...   \n",
       "49                                 fully implemented.   \n",
       "\n",
       "                                    management_action   references  \\\n",
       "17  the account remained dormant during the past 2...  aar cy 2011   \n",
       "18  year-end collections were not deposited before...  aar cy 2012   \n",
       "20              there was a settlement of p73,248.36.  aar cy 2012   \n",
       "21                    not acted upon during the year.  aar cy 2012   \n",
       "49  management has been vigilant in the remittance...  cy 2012 aar   \n",
       "\n",
       "                                               source  \n",
       "17  05-solana2013_part3-status_of_implementations_...  \n",
       "18  05-solana2013_part3-status_of_implementations_...  \n",
       "20  05-solana2013_part3-status_of_implementations_...  \n",
       "21  05-solana2013_part3-status_of_implementations_...  \n",
       "49  05-solano2013_part3-status_of_pys_audit_recomm...  "
      ]
     },
     "execution_count": 150,
     "metadata": {},
     "output_type": "execute_result"
    }
   ],
   "source": [
    "print(df.loc[df.status_of_implementation.isna()].shape)\n",
    "df.loc[df.status_of_implementation.isna()].head()"
   ]
  },
  {
   "cell_type": "code",
   "execution_count": 151,
   "metadata": {},
   "outputs": [],
   "source": [
    "df.loc[df.status_of_implementation.isna()].to_csv('../data/exploration/no_status_with_reasons.csv')"
   ]
  },
  {
   "cell_type": "code",
   "execution_count": 152,
   "metadata": {},
   "outputs": [],
   "source": [
    "df.loc[df.status_of_implementation.isna(), 'status_of_implementation'] = \\\n",
    "    \" \" + df.reasons_for_partial_or_non_implementation.fillna('')\n",
    "df.drop(columns=['reasons_for_partial_or_non_implementation'], inplace=True)"
   ]
  },
  {
   "cell_type": "code",
   "execution_count": 153,
   "metadata": {},
   "outputs": [
    {
     "data": {
      "text/plain": [
       "0"
      ]
     },
     "execution_count": 153,
     "metadata": {},
     "output_type": "execute_result"
    }
   ],
   "source": [
    "df.status_of_implementation.isna().sum()"
   ]
  },
  {
   "attachments": {},
   "cell_type": "markdown",
   "metadata": {},
   "source": [
    "### Nice! We are all done with moving the data around :)"
   ]
  },
  {
   "attachments": {},
   "cell_type": "markdown",
   "metadata": {},
   "source": [
    "___"
   ]
  },
  {
   "attachments": {},
   "cell_type": "markdown",
   "metadata": {},
   "source": [
    "## String Cleaning!\n",
    "\n",
    "Something persistent in the `status of implementation` column is the presence of spaces disturbing the status variable. E.g. \"Implemented\" & \"Implemen ted\". This issue runs deep and affects all of our status variables. We'll need to devise a method of overcoming it. There are also many instances of the string \"N/A\" in the `status` column we'll need to fix.\n",
    "\n",
    "> We'll deal with the N/A's first."
   ]
  },
  {
   "attachments": {},
   "cell_type": "markdown",
   "metadata": {},
   "source": [
    "#### \"N/A\" Cleaning\n",
    "\n",
    "We only care about instances where the status only has \"N/A\"s and doesn't contain the word 'Implemented'. Sometimes the N/A was moved up in overflow repair.\n",
    "We'll set those to `not implemented`."
   ]
  },
  {
   "cell_type": "code",
   "execution_count": 154,
   "metadata": {},
   "outputs": [
    {
     "name": "stdout",
     "output_type": "stream",
     "text": [
      "(309, 5)\n"
     ]
    },
    {
     "data": {
      "text/html": [
       "<div>\n",
       "<style scoped>\n",
       "    .dataframe tbody tr th:only-of-type {\n",
       "        vertical-align: middle;\n",
       "    }\n",
       "\n",
       "    .dataframe tbody tr th {\n",
       "        vertical-align: top;\n",
       "    }\n",
       "\n",
       "    .dataframe thead th {\n",
       "        text-align: right;\n",
       "    }\n",
       "</style>\n",
       "<table border=\"1\" class=\"dataframe\">\n",
       "  <thead>\n",
       "    <tr style=\"text-align: right;\">\n",
       "      <th></th>\n",
       "      <th>audit_observation</th>\n",
       "      <th>status_of_implementation</th>\n",
       "      <th>management_action</th>\n",
       "      <th>references</th>\n",
       "      <th>source</th>\n",
       "    </tr>\n",
       "  </thead>\n",
       "  <tbody>\n",
       "    <tr>\n",
       "      <th>16</th>\n",
       "      <td>1. ms. regilyn c. pamittan, revenue collection...</td>\n",
       "      <td>n/a n/a</td>\n",
       "      <td>none during the year 2013. the municipal faile...</td>\n",
       "      <td>aar cy 2012 aar cy 2012</td>\n",
       "      <td>05-solana2013_part3-status_of_implementations_...</td>\n",
       "    </tr>\n",
       "    <tr>\n",
       "      <th>19</th>\n",
       "      <td>9. out of the total receivables of p2,627,868....</td>\n",
       "      <td>n/a n/a</td>\n",
       "      <td>the account remained dormant.during the year, ...</td>\n",
       "      <td>aar cy 2012</td>\n",
       "      <td>05-solana2013_part3-status_of_implementations_...</td>\n",
       "    </tr>\n",
       "    <tr>\n",
       "      <th>55</th>\n",
       "      <td>6.the amount of p7,880,491.05 in cash advances...</td>\n",
       "      <td>n/a n/a</td>\n",
       "      <td>the accounting &amp; treasury offices have monitor...</td>\n",
       "      <td>cy 2012 aar</td>\n",
       "      <td>05-solano2013_part3-status_of_pys_audit_recomm...</td>\n",
       "    </tr>\n",
       "    <tr>\n",
       "      <th>59</th>\n",
       "      <td>10. the balance of p43,966,006.27 of loans pay...</td>\n",
       "      <td>n/a n/a</td>\n",
       "      <td>the accounting office has prepared a reconcili...</td>\n",
       "      <td>cy 2012 aar</td>\n",
       "      <td>05-solano2013_part3-status_of_pys_audit_recomm...</td>\n",
       "    </tr>\n",
       "    <tr>\n",
       "      <th>60</th>\n",
       "      <td>1. collections were not deposited intact with ...</td>\n",
       "      <td>n/a n/a</td>\n",
       "      <td>reconciliation between records of the accounti...</td>\n",
       "      <td>aar 2012</td>\n",
       "      <td>01-sual2013_audit_report.pdf</td>\n",
       "    </tr>\n",
       "  </tbody>\n",
       "</table>\n",
       "</div>"
      ],
      "text/plain": [
       "                                    audit_observation  \\\n",
       "16  1. ms. regilyn c. pamittan, revenue collection...   \n",
       "19  9. out of the total receivables of p2,627,868....   \n",
       "55  6.the amount of p7,880,491.05 in cash advances...   \n",
       "59  10. the balance of p43,966,006.27 of loans pay...   \n",
       "60  1. collections were not deposited intact with ...   \n",
       "\n",
       "   status_of_implementation  \\\n",
       "16                  n/a n/a   \n",
       "19                  n/a n/a   \n",
       "55                  n/a n/a   \n",
       "59                  n/a n/a   \n",
       "60                  n/a n/a   \n",
       "\n",
       "                                    management_action  \\\n",
       "16  none during the year 2013. the municipal faile...   \n",
       "19  the account remained dormant.during the year, ...   \n",
       "55  the accounting & treasury offices have monitor...   \n",
       "59  the accounting office has prepared a reconcili...   \n",
       "60  reconciliation between records of the accounti...   \n",
       "\n",
       "                  references  \\\n",
       "16  aar cy 2012 aar cy 2012    \n",
       "19              aar cy 2012    \n",
       "55              cy 2012 aar    \n",
       "59              cy 2012 aar    \n",
       "60                 aar 2012    \n",
       "\n",
       "                                               source  \n",
       "16  05-solana2013_part3-status_of_implementations_...  \n",
       "19  05-solana2013_part3-status_of_implementations_...  \n",
       "55  05-solano2013_part3-status_of_pys_audit_recomm...  \n",
       "59  05-solano2013_part3-status_of_pys_audit_recomm...  \n",
       "60                       01-sual2013_audit_report.pdf  "
      ]
     },
     "execution_count": 154,
     "metadata": {},
     "output_type": "execute_result"
    }
   ],
   "source": [
    "status_na_strings = df.loc[\n",
    "    (df.status_of_implementation.str.contains('implemented') == False) &\n",
    "    (df.status_of_implementation.str.contains('n/a'))\n",
    "]\n",
    "print(status_na_strings.shape)\n",
    "status_na_strings.head()"
   ]
  },
  {
   "cell_type": "code",
   "execution_count": 155,
   "metadata": {},
   "outputs": [
    {
     "data": {
      "text/html": [
       "<div>\n",
       "<style scoped>\n",
       "    .dataframe tbody tr th:only-of-type {\n",
       "        vertical-align: middle;\n",
       "    }\n",
       "\n",
       "    .dataframe tbody tr th {\n",
       "        vertical-align: top;\n",
       "    }\n",
       "\n",
       "    .dataframe thead th {\n",
       "        text-align: right;\n",
       "    }\n",
       "</style>\n",
       "<table border=\"1\" class=\"dataframe\">\n",
       "  <thead>\n",
       "    <tr style=\"text-align: right;\">\n",
       "      <th></th>\n",
       "      <th>audit_observation</th>\n",
       "      <th>status_of_implementation</th>\n",
       "      <th>management_action</th>\n",
       "      <th>references</th>\n",
       "      <th>source</th>\n",
       "    </tr>\n",
       "  </thead>\n",
       "  <tbody>\n",
       "    <tr>\n",
       "      <th>16</th>\n",
       "      <td>1. ms. regilyn c. pamittan, revenue collection...</td>\n",
       "      <td>not implemented</td>\n",
       "      <td>none during the year 2013. the municipal faile...</td>\n",
       "      <td>aar cy 2012 aar cy 2012</td>\n",
       "      <td>05-solana2013_part3-status_of_implementations_...</td>\n",
       "    </tr>\n",
       "    <tr>\n",
       "      <th>19</th>\n",
       "      <td>9. out of the total receivables of p2,627,868....</td>\n",
       "      <td>not implemented</td>\n",
       "      <td>the account remained dormant.during the year, ...</td>\n",
       "      <td>aar cy 2012</td>\n",
       "      <td>05-solana2013_part3-status_of_implementations_...</td>\n",
       "    </tr>\n",
       "    <tr>\n",
       "      <th>55</th>\n",
       "      <td>6.the amount of p7,880,491.05 in cash advances...</td>\n",
       "      <td>not implemented</td>\n",
       "      <td>the accounting &amp; treasury offices have monitor...</td>\n",
       "      <td>cy 2012 aar</td>\n",
       "      <td>05-solano2013_part3-status_of_pys_audit_recomm...</td>\n",
       "    </tr>\n",
       "    <tr>\n",
       "      <th>59</th>\n",
       "      <td>10. the balance of p43,966,006.27 of loans pay...</td>\n",
       "      <td>not implemented</td>\n",
       "      <td>the accounting office has prepared a reconcili...</td>\n",
       "      <td>cy 2012 aar</td>\n",
       "      <td>05-solano2013_part3-status_of_pys_audit_recomm...</td>\n",
       "    </tr>\n",
       "    <tr>\n",
       "      <th>60</th>\n",
       "      <td>1. collections were not deposited intact with ...</td>\n",
       "      <td>not implemented</td>\n",
       "      <td>reconciliation between records of the accounti...</td>\n",
       "      <td>aar 2012</td>\n",
       "      <td>01-sual2013_audit_report.pdf</td>\n",
       "    </tr>\n",
       "  </tbody>\n",
       "</table>\n",
       "</div>"
      ],
      "text/plain": [
       "                                    audit_observation  \\\n",
       "16  1. ms. regilyn c. pamittan, revenue collection...   \n",
       "19  9. out of the total receivables of p2,627,868....   \n",
       "55  6.the amount of p7,880,491.05 in cash advances...   \n",
       "59  10. the balance of p43,966,006.27 of loans pay...   \n",
       "60  1. collections were not deposited intact with ...   \n",
       "\n",
       "   status_of_implementation  \\\n",
       "16          not implemented   \n",
       "19          not implemented   \n",
       "55          not implemented   \n",
       "59          not implemented   \n",
       "60          not implemented   \n",
       "\n",
       "                                    management_action  \\\n",
       "16  none during the year 2013. the municipal faile...   \n",
       "19  the account remained dormant.during the year, ...   \n",
       "55  the accounting & treasury offices have monitor...   \n",
       "59  the accounting office has prepared a reconcili...   \n",
       "60  reconciliation between records of the accounti...   \n",
       "\n",
       "                  references  \\\n",
       "16  aar cy 2012 aar cy 2012    \n",
       "19              aar cy 2012    \n",
       "55              cy 2012 aar    \n",
       "59              cy 2012 aar    \n",
       "60                 aar 2012    \n",
       "\n",
       "                                               source  \n",
       "16  05-solana2013_part3-status_of_implementations_...  \n",
       "19  05-solana2013_part3-status_of_implementations_...  \n",
       "55  05-solano2013_part3-status_of_pys_audit_recomm...  \n",
       "59  05-solano2013_part3-status_of_pys_audit_recomm...  \n",
       "60                       01-sual2013_audit_report.pdf  "
      ]
     },
     "execution_count": 155,
     "metadata": {},
     "output_type": "execute_result"
    }
   ],
   "source": [
    "na_string_indicies = status_na_strings.index.tolist()\n",
    "df.status_of_implementation.loc[na_string_indicies] = \"not implemented\"\n",
    "df.loc[na_string_indicies].head()"
   ]
  },
  {
   "cell_type": "code",
   "execution_count": 156,
   "metadata": {},
   "outputs": [
    {
     "data": {
      "text/plain": [
       "audit_observation             0\n",
       "status_of_implementation      0\n",
       "management_action           832\n",
       "references                  249\n",
       "source                        0\n",
       "dtype: int64"
      ]
     },
     "execution_count": 156,
     "metadata": {},
     "output_type": "execute_result"
    }
   ],
   "source": [
    "df.isna().sum()"
   ]
  },
  {
   "attachments": {},
   "cell_type": "markdown",
   "metadata": {},
   "source": [
    "> Nice!\n",
    "___"
   ]
  },
  {
   "attachments": {},
   "cell_type": "markdown",
   "metadata": {},
   "source": [
    "## Fuzzy Matching\n",
    "\n",
    "Returning to the talk of stray spaces and punctuation in the `status of implementation` column, we'll need to do some *fuzzy matching* to ensure that we have a consistent set of status values.\n",
    "This will be a long section:"
   ]
  },
  {
   "cell_type": "code",
   "execution_count": 157,
   "metadata": {},
   "outputs": [
    {
     "data": {
      "text/plain": [
       "not implemented            708\n",
       "partially implemented      514\n",
       "partially implemented      423\n",
       "not implemented            411\n",
       "fully implemented          197\n",
       "implemented                184\n",
       "implemented                176\n",
       "fully implemented          171\n",
       "partially implemented.      57\n",
       "not implemented.            45\n",
       "Name: status_of_implementation, dtype: int64"
      ]
     },
     "execution_count": 157,
     "metadata": {},
     "output_type": "execute_result"
    }
   ],
   "source": [
    "df.status_of_implementation.value_counts()[0:10]"
   ]
  },
  {
   "attachments": {},
   "cell_type": "markdown",
   "metadata": {},
   "source": [
    "> We can see that there is some small variance in the statuses of implementation such that 'not implemented' and 'not implemented  ' are different. We want statuses that are similar to be mapped to the same value.\n",
    "\n",
    " We'll use some fuzzy logic from the [fuzzywuzzy](https://pypi.org/project/fuzzywuzzy/) library to do this."
   ]
  },
  {
   "cell_type": "code",
   "execution_count": 158,
   "metadata": {},
   "outputs": [],
   "source": [
    "from fuzzywuzzy import process as fuzz_process\n",
    "\n",
    "def find_fuzzy_matches(df: pd.DataFrame, col: str, match: str, threshold: int = 96):\n",
    "    \"\"\"\n",
    "    This function uses fuzzywuzzy to find matches in a column of a dataframe.\n",
    "    You can specify a threshold for the score of the matches to tune the results.\n",
    "    Args:\n",
    "        df (pd.DataFrame): df\n",
    "        col (str): column to search\n",
    "        match (str): what to match\n",
    "        threshold (int, optional): score threshold for matches. Defaults to 96.\n",
    "\n",
    "    Returns:\n",
    "        list: list of matches\n",
    "    \"\"\"\n",
    "\n",
    "    matches = fuzz_process.extract(match, df.status_of_implementation, limit=None)\n",
    "    return list(set(i[0].strip() for i in matches if i[1] >= threshold))"
   ]
  },
  {
   "attachments": {},
   "cell_type": "markdown",
   "metadata": {},
   "source": [
    "> Throughout this section, the threshold values in `find_fuzzy_matches()` are not arbitrary. They are the result of a lot of trial and error. I've found that the threshold values that work best for this dataset are 92-95. We'll have to do some manual cleaning of the match values for each attempt, but it's worth it in the end."
   ]
  },
  {
   "attachments": {},
   "cell_type": "markdown",
   "metadata": {},
   "source": [
    "___"
   ]
  },
  {
   "attachments": {},
   "cell_type": "markdown",
   "metadata": {},
   "source": [
    "#### Matching 'Implemented'"
   ]
  },
  {
   "cell_type": "code",
   "execution_count": 159,
   "metadata": {},
   "outputs": [
    {
     "data": {
      "text/plain": [
       "['implemente d',\n",
       " 'unimplemented.',\n",
       " 'implemented .',\n",
       " 'unimplemented',\n",
       " 'implemen ted',\n",
       " 'impleme nted',\n",
       " 'implemented',\n",
       " 'implement ed',\n",
       " 'implemen- ted',\n",
       " 'implemented.',\n",
       " 'imple mented']"
      ]
     },
     "execution_count": 159,
     "metadata": {},
     "output_type": "execute_result"
    }
   ],
   "source": [
    "# Demonstration:\n",
    "matches = find_fuzzy_matches(\n",
    "    df, \n",
    "    'status_of_implementation',\n",
    "    'implemented',\n",
    "    92)\n",
    "matches = list(set(\n",
    "    match.replace('not ', '')\n",
    "    for match in matches\n",
    "    ))\n",
    "matches"
   ]
  },
  {
   "cell_type": "code",
   "execution_count": 160,
   "metadata": {},
   "outputs": [
    {
     "data": {
      "text/plain": [
       "['implemente d',\n",
       " 'implemented .',\n",
       " 'implemen ted',\n",
       " 'impleme nted',\n",
       " 'implemented',\n",
       " 'implement ed',\n",
       " 'implemen- ted',\n",
       " 'implemented.',\n",
       " 'imple mented']"
      ]
     },
     "execution_count": 160,
     "metadata": {},
     "output_type": "execute_result"
    }
   ],
   "source": [
    "# This is that manual cleaning I mentioned earlier.\n",
    "# replace 'unimplemented' with 'not implemented',\n",
    "# remove 'unimplemented' from matches\n",
    "df.status_of_implementation = df.status_of_implementation.apply(\n",
    "    lambda x:\n",
    "        str(x).replace('unimplemented', 'not implemented')\n",
    "        .replace('unimplemented.', 'not implemented')\n",
    ")\n",
    "matches.remove('unimplemented')\n",
    "matches.remove('unimplemented.')\n",
    "matches"
   ]
  },
  {
   "cell_type": "code",
   "execution_count": 161,
   "metadata": {},
   "outputs": [
    {
     "data": {
      "text/plain": [
       "not implemented                                1285\n",
       "partially implemented                          1172\n",
       "implemented                                     489\n",
       "fully implemented                               482\n",
       "partially implemented partially implemented      32\n",
       "                                                 29\n",
       "not implemented not implemented                  21\n",
       "not implemented partially implemented            19\n",
       "partially implemented not implemented            18\n",
       "status of implement- ation                       13\n",
       "Name: status_of_implementation, dtype: int64"
      ]
     },
     "execution_count": 161,
     "metadata": {},
     "output_type": "execute_result"
    }
   ],
   "source": [
    "for match in matches:\n",
    "    df.status_of_implementation = \\\n",
    "        df.status_of_implementation.apply(\n",
    "            lambda x: x.replace(match, 'implemented') \n",
    "        )\n",
    "df.status_of_implementation = df.status_of_implementation.str.strip()\n",
    "df.status_of_implementation.value_counts()[0:10]"
   ]
  },
  {
   "attachments": {},
   "cell_type": "markdown",
   "metadata": {},
   "source": [
    "___\n",
    "#### Matching 'Not Implemented'"
   ]
  },
  {
   "cell_type": "code",
   "execution_count": 162,
   "metadata": {},
   "outputs": [
    {
     "data": {
      "text/plain": [
       "['not implemented the',\n",
       " 'not implem ented',\n",
       " 'not implemented not',\n",
       " 'not imple mente d',\n",
       " 'not implemente',\n",
       " 'implemented',\n",
       " 'not yet implemented',\n",
       " 'not implemented']"
      ]
     },
     "execution_count": 162,
     "metadata": {},
     "output_type": "execute_result"
    }
   ],
   "source": [
    "matches = find_fuzzy_matches(df, 'status_of_implementation', 'not implemented', threshold=92)\n",
    "matches"
   ]
  },
  {
   "cell_type": "code",
   "execution_count": 163,
   "metadata": {},
   "outputs": [
    {
     "data": {
      "text/plain": [
       "not implemented                                1300\n",
       "partially implemented                          1172\n",
       "implemented                                     489\n",
       "fully implemented                               482\n",
       "partially implemented partially implemented      32\n",
       "                                                 29\n",
       "not implemented not implemented                  21\n",
       "partially implemented not implemented            19\n",
       "not implemented partially implemented            19\n",
       "status of implement- ation                       13\n",
       "Name: status_of_implementation, dtype: int64"
      ]
     },
     "execution_count": 163,
     "metadata": {},
     "output_type": "execute_result"
    }
   ],
   "source": [
    "matches.remove('implemented')\n",
    "matches.remove('not implemented not')\n",
    "matches.remove('not implemented the')\n",
    "for match in matches:\n",
    "    df.status_of_implementation = \\\n",
    "        df.status_of_implementation.apply(\n",
    "            lambda x: x.replace(match, 'not implemented') \n",
    "            .replace('implementedd', 'implemented') # fix a typo\n",
    "        )\n",
    "df.status_of_implementation.value_counts()[0:10]"
   ]
  },
  {
   "attachments": {},
   "cell_type": "markdown",
   "metadata": {},
   "source": [
    "___"
   ]
  },
  {
   "attachments": {},
   "cell_type": "markdown",
   "metadata": {},
   "source": [
    "#### Matching 'Partially Implemented'"
   ]
  },
  {
   "cell_type": "code",
   "execution_count": 164,
   "metadata": {},
   "outputs": [
    {
     "data": {
      "text/plain": [
       "['partially imple- mented',\n",
       " 'partially implemented partially',\n",
       " 'partially implementeded',\n",
       " 'partially implemented 0.00',\n",
       " 'partially imple- mented.',\n",
       " 'implemented  implemented',\n",
       " 'not implemented partially',\n",
       " 'partiallyimplemented',\n",
       " 'patially implemented',\n",
       " 'partially implemen-ted',\n",
       " 'partiall y imple mente d',\n",
       " 'partially implememted',\n",
       " 'implemented implemented',\n",
       " 'partially implemented']"
      ]
     },
     "execution_count": 164,
     "metadata": {},
     "output_type": "execute_result"
    }
   ],
   "source": [
    "matches = find_fuzzy_matches(df, 'status_of_implementation', 'partially implemented', 93)\n",
    "matches"
   ]
  },
  {
   "cell_type": "code",
   "execution_count": 165,
   "metadata": {},
   "outputs": [
    {
     "data": {
      "text/plain": [
       "not implemented                                1300\n",
       "partially implemented                          1188\n",
       "implemented                                     489\n",
       "fully implemented                               482\n",
       "partially implemented partially implemented      32\n",
       "                                                 29\n",
       "not implemented not implemented                  21\n",
       "not implemented partially implemented            19\n",
       "partially implemented not implemented            19\n",
       "status of implement- ation                       13\n",
       "Name: status_of_implementation, dtype: int64"
      ]
     },
     "execution_count": 165,
     "metadata": {},
     "output_type": "execute_result"
    }
   ],
   "source": [
    "matches.remove('implemented  implemented')\n",
    "matches.remove('implemented implemented')\n",
    "matches.remove('partially implemented partially')\n",
    "matches.remove('not implemented partially')\n",
    "\n",
    "for match in matches:\n",
    "    df.status_of_implementation = \\\n",
    "        df.status_of_implementation.apply(\n",
    "            lambda x: x.replace(match, 'partially implemented') \n",
    "        )\n",
    "df.status_of_implementation = df.status_of_implementation.str.strip()\n",
    "df.status_of_implementation.value_counts()[0:10]"
   ]
  },
  {
   "attachments": {},
   "cell_type": "markdown",
   "metadata": {},
   "source": [
    "___"
   ]
  },
  {
   "attachments": {},
   "cell_type": "markdown",
   "metadata": {},
   "source": [
    "#### Some additional cleaning..."
   ]
  },
  {
   "cell_type": "code",
   "execution_count": 166,
   "metadata": {},
   "outputs": [
    {
     "data": {
      "text/plain": [
       "not implemented                                1300\n",
       "partially implemented                          1188\n",
       "implemented                                     971\n",
       "partially implemented partially implemented      32\n",
       "                                                 29\n",
       "not implemented not implemented                  21\n",
       "partially implemented not implemented            19\n",
       "not implemented partially implemented            19\n",
       "implemented implemented                          18\n",
       "partially implemented implemented                17\n",
       "Name: status_of_implementation, dtype: int64"
      ]
     },
     "execution_count": 166,
     "metadata": {},
     "output_type": "execute_result"
    }
   ],
   "source": [
    "# map \"fully implemented\" to \"implemented\"\n",
    "df.status_of_implementation = \\\n",
    "    df.status_of_implementation.apply(\n",
    "        lambda x: x.replace('fully implemented', 'implemented')\n",
    "    )\n",
    "df.status_of_implementation.value_counts()[0:10]"
   ]
  },
  {
   "cell_type": "code",
   "execution_count": 167,
   "metadata": {},
   "outputs": [],
   "source": [
    "# remove phrases like \"status of implementation\" --> junk that will mess up our counts later\n",
    "matches = find_fuzzy_matches(df, 'status_of_implementation', 'status of implementation', 93)\n",
    "for match in matches:    \n",
    "    df.status_of_implementation = \\\n",
    "        df.status_of_implementation.apply(\n",
    "            lambda x: x.replace(match, '')\n",
    "        )"
   ]
  },
  {
   "cell_type": "code",
   "execution_count": 168,
   "metadata": {},
   "outputs": [],
   "source": [
    "# dropping the rows where the status is empty\n",
    "df = df.drop(\n",
    "    index=df.loc[df.status_of_implementation == ''].index.tolist()\n",
    ")\n",
    "df.reset_index(drop=True, inplace=True)"
   ]
  },
  {
   "attachments": {},
   "cell_type": "markdown",
   "metadata": {},
   "source": [
    "> Wow... We are finally done with the cleaning the status of implementation column!"
   ]
  },
  {
   "attachments": {},
   "cell_type": "markdown",
   "metadata": {},
   "source": [
    "___"
   ]
  },
  {
   "attachments": {},
   "cell_type": "markdown",
   "metadata": {},
   "source": [
    "## Mapping Status of Implementation to Categorical\n",
    "\n",
    "One of the most interesting components of this analysis is the difficulty in translating the `status of implementation` column to something that a model can deal with effectively. Fortunately, most of the work in getting there has been done! \n",
    "\n",
    "Since there are many observations with multiple statuses, the last thing we'll need to do is to map the statuses to a single value. We'll do this by assigning a `completion_value` to each status.\n",
    "\n",
    "| Status | Completion Value |\n",
    "| --- | --- |\n",
    "| Implemented | 1 |\n",
    "| Partially Implemented | 0.5 |\n",
    "| Not Implemented | 0 |\n",
    "\n",
    "We'll calculate the completion percentage for each observation by taking the average of the completion values for each of its statuses.\n",
    "Completion percentage = (sum of completion values) / (number of statuses)\n",
    "\n",
    "Then, we'll map the completion percentage to a categorical value.\n",
    "\n",
    "| Completion Percentage | Categorical Value |\n",
    "| --- | --- |\n",
    "| 0 | 0 |\n",
    "| 0 < x < 1 | 1 |\n",
    "| 1 | 2 |\n"
   ]
  },
  {
   "cell_type": "code",
   "execution_count": 169,
   "metadata": {},
   "outputs": [
    {
     "data": {
      "text/plain": [
       "not implemented                                                      1300\n",
       "partially implemented                                                1188\n",
       "implemented                                                           971\n",
       "partially implemented partially implemented                            32\n",
       "not implemented not implemented                                        21\n",
       "partially implemented not implemented                                  19\n",
       "not implemented partially implemented                                  19\n",
       "implemented implemented                                                18\n",
       "partially implemented implemented                                      17\n",
       "implemented partially implemented                                      13\n",
       "implemented not implemented                                            12\n",
       "partially implemented                                                  12\n",
       "not implemented                                                        11\n",
       "not implemented not implemented not implemented                        11\n",
       "partially implemented partially implemented partially implemented       9\n",
       "Name: status_of_implementation, dtype: int64"
      ]
     },
     "execution_count": 169,
     "metadata": {},
     "output_type": "execute_result"
    }
   ],
   "source": [
    "df.status_of_implementation.value_counts()[:15]"
   ]
  },
  {
   "cell_type": "code",
   "execution_count": 170,
   "metadata": {},
   "outputs": [],
   "source": [
    "def create_status_score(text: str):\n",
    "    # count the instances of each implementation status in this order:\n",
    "    not_implemented = text.count('not implemented')\n",
    "    text = text.replace('not implemented', '')\n",
    "    \n",
    "    partially_implemented = text.count('partially implemented')\n",
    "    text = text.replace('partially implemented', '')\n",
    "    \n",
    "    # we remove ^those^ beforehand to get an accurate count of true implementations\n",
    "    implemented = text.count('implemented')\n",
    "    text = text.replace('implemented', '')\n",
    "    \n",
    "    status_count = \\\n",
    "        not_implemented + partially_implemented + implemented\n",
    "    \n",
    "    # even after all of that cleaning, somehow there\n",
    "    # are still some observations with no status :(\n",
    "    if status_count == 0:\n",
    "        return 0\n",
    "    \n",
    "    score = \\\n",
    "    (\n",
    "        ((not_implemented * 0) +\n",
    "        (partially_implemented * 0.5) +\n",
    "        (implemented * 1))\n",
    "        / status_count\n",
    "    )\n",
    "    return score"
   ]
  },
  {
   "cell_type": "code",
   "execution_count": 171,
   "metadata": {},
   "outputs": [
    {
     "data": {
      "text/plain": [
       "count    4306.000000\n",
       "mean        0.425844\n",
       "std         0.392389\n",
       "min         0.000000\n",
       "25%         0.000000\n",
       "50%         0.500000\n",
       "75%         0.750000\n",
       "max         1.000000\n",
       "Name: status_score, dtype: float64"
      ]
     },
     "execution_count": 171,
     "metadata": {},
     "output_type": "execute_result"
    }
   ],
   "source": [
    "df['status_score'] = df.status_of_implementation.apply(create_status_score)\n",
    "df.status_score.describe()"
   ]
  },
  {
   "cell_type": "code",
   "execution_count": 172,
   "metadata": {},
   "outputs": [],
   "source": [
    "def map_status(score: float):\n",
    "    if score == 0:\n",
    "        return 0\n",
    "    if score == 1:\n",
    "        return 2\n",
    "    else:\n",
    "        return 1"
   ]
  },
  {
   "cell_type": "code",
   "execution_count": 173,
   "metadata": {},
   "outputs": [],
   "source": [
    "df['status'] = df.status_score.apply(map_status)"
   ]
  },
  {
   "cell_type": "code",
   "execution_count": 174,
   "metadata": {},
   "outputs": [
    {
     "data": {
      "text/plain": [
       "0    1669\n",
       "1    1596\n",
       "2    1041\n",
       "Name: status, dtype: int64"
      ]
     },
     "execution_count": 174,
     "metadata": {},
     "output_type": "execute_result"
    }
   ],
   "source": [
    "df.status.value_counts()"
   ]
  },
  {
   "attachments": {},
   "cell_type": "markdown",
   "metadata": {},
   "source": [
    "### Wow!"
   ]
  },
  {
   "attachments": {},
   "cell_type": "markdown",
   "metadata": {},
   "source": [
    "___"
   ]
  },
  {
   "attachments": {},
   "cell_type": "markdown",
   "metadata": {},
   "source": [
    "## Using the Cleantext PyPi Package to Spruce Up the Data\n",
    "\n",
    "The last thing we'll do is quickly apply the [clean-text](https://pypi.org/project/clean-text/) package to the `audit observation` column. This will remove unwanted characters, accents, and symbols from the text, as well as normalize the text to a standard form.\n",
    "\n",
    "Install using: `pip install clean-text`\n",
    "\n",
    "DESCRIPTION: clean-text uses ftfy, unidecode and numerous hand-crafted rules, i.e., RegEx.\n"
   ]
  },
  {
   "cell_type": "code",
   "execution_count": 175,
   "metadata": {},
   "outputs": [],
   "source": [
    "from cleantext import clean\n",
    "mycleaner = lambda x: clean(x, fix_unicode=True, to_ascii=True,\n",
    "                            lower=True, no_line_breaks=True,\n",
    "                            no_urls=True, no_emails=True)\n",
    "                            \n",
    "df = df.applymap(mycleaner)"
   ]
  },
  {
   "cell_type": "code",
   "execution_count": 176,
   "metadata": {},
   "outputs": [],
   "source": [
    "df.to_csv('../data/scored_data.csv')"
   ]
  },
  {
   "attachments": {},
   "cell_type": "markdown",
   "metadata": {},
   "source": [
    "## End of Data Cleaning"
   ]
  }
 ],
 "metadata": {
  "kernelspec": {
   "display_name": "base",
   "language": "python",
   "name": "python3"
  },
  "language_info": {
   "codemirror_mode": {
    "name": "ipython",
    "version": 3
   },
   "file_extension": ".py",
   "mimetype": "text/x-python",
   "name": "python",
   "nbconvert_exporter": "python",
   "pygments_lexer": "ipython3",
   "version": "3.9.16"
  },
  "orig_nbformat": 4
 },
 "nbformat": 4,
 "nbformat_minor": 2
}
